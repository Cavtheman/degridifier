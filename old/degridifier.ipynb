{
 "cells": [
  {
   "cell_type": "code",
   "execution_count": null,
   "metadata": {
    "collapsed": false
   },
   "outputs": [],
   "source": [
    "import torch\n",
    "import torch.nn as nn\n",
    "from torch.nn import Conv2d\n",
    "from torch.nn import Dropout\n",
    "import torch.nn.functional as F\n",
    "from torch.utils import data\n",
    "from torchvision.utils import save_image\n",
    "\n",
    "import sys\n",
    "import random\n",
    "from datetime import datetime\n",
    "\n",
    "# My own files\n",
    "from gridifier import gridify\n",
    "from data_generator import Dataset"
   ]
  },
  {
   "cell_type": "code",
   "execution_count": null,
   "metadata": {
    "collapsed": false
   },
   "outputs": [],
   "source": [
    "class Degridifier_model(nn.Module):\n",
    "    def __init__(self, conv_depth=[5,7,5]):\n",
    "        super(Degridifier_model, self).__init__()\n",
    "\n",
    "        self.processor = processor\n",
    "        self.convd1 = Conv2d(3, conv_depth[0], (5,5), padding=(2,2), padding_mode='same')\n",
    "        self.convd2 = Conv2d(conv_depth[0], conv_depth[1], (5,5), padding=(2,2), padding_mode='same')\n",
    "        self.convd3 = Conv2d(conv_depth[1], conv_depth[2], (5,5), padding=(2,2), padding_mode='same')\n",
    "        self.convd4 = Conv2d(conv_depth[2], 3, (1,1))\n",
    "\n",
    "        self.drop = Dropout()\n",
    "\n",
    "    def forward(self, input_data):\n",
    "        conv1 = F.relu(self.convd1(input_data))\n",
    "        conv2 = F.relu(self.convd2(conv1))\n",
    "        conv3 = F.relu(self.convd3(conv2))\n",
    "        conv4 = torch.sigmoid(self.convd4(conv3))\n",
    "\n",
    "        return conv4\n",
    "                       "
   ]
  },
  {
   "cell_type": "code",
   "execution_count": null,
   "metadata": {
    "collapsed": false
   },
   "outputs": [],
   "source": [
    "\n",
    "use_cuda = torch.cuda.is_available() and False\n",
    "print(\"Using GPU:\", use_cuda)\n",
    "processor = torch.device(\"cuda:0\" if use_cuda else \"cpu\")\n",
    "torch.backends.cudnn.benchmark = True\n",
    "\n",
    "\n",
    "# Initialising the data generator and model\n",
    "labels_path = \"gridless/{}.png\"\n",
    "conv_depth = [5,7,5]\n",
    "batch_size = 1\n",
    "\n",
    "augments = {\"grid_size\" : (15,90),\n",
    "            \"grid_intensity\" : (-1,1),\n",
    "            \"grid_offset_x\" : (0,90),\n",
    "            \"grid_offset_y\" : (0,90),\n",
    "            \"hflip\" : 0.5,\n",
    "            \"vflip\" : 0.5,\n",
    "            \"angle\" : 0,\n",
    "            \"shear\" : 0,\n",
    "            \"brightness\" : (0.75,1.25),\n",
    "            \"pad\" : (0,0,0,0),\n",
    "            \"contrast\" : (0.5,2)}\n",
    "\n",
    "dataset = Dataset(range(30), labels_path, **augments)\n",
    "training_generator = data.DataLoader(dataset, batch_size=batch_size, shuffle=False, num_workers=0)\n",
    "\n",
    "model = Degridifier_model(conv_depth).to(processor)\n",
    "loss_function = nn.BCELoss().to(processor)"
   ]
  },
  {
   "cell_type": "code",
   "execution_count": null,
   "metadata": {
    "collapsed": false
   },
   "outputs": [],
   "source": [
    "# Initialising some variables for use in training\n",
    "batches = float(\"inf\")\n",
    "time_diff = 0\n",
    "no_improv = 0\n",
    "min_loss = float(\"inf\")\n",
    "epochs = 1\n",
    "print_stuff = False\n",
    "\n",
    "for epoch in range(epochs):\n",
    "    for i, (batch, labels) in enumerate(training_generator):\n",
    "\n",
    "        # Keeping track of stuff\n",
    "        start_time = datetime.now()\n",
    "\n",
    "        #est_time_left = str(time_diff*(min(batches, dataset.__len__()/batch_size) - i) + (time_diff*min(batches, dataset.__len__()/batch_size)) * (epochs - (epoch+1))).split(\".\")[0]\n",
    "        est_time_left = str(time_diff*(min(batches, dataset.__len__()) - i)+time_diff*(epochs-(epoch+1))*min(batches, dataset.__len__()/batch_size)).split(\".\")[0]\n",
    "        \n",
    "        sys.stdout.write(\"\\rEpoch: {0}. Batch: {1}. Min loss: {2:.5f}. Estimated time left: {3}. Best: {4} batches ago.\".format(epoch+1, i+1, min_loss, est_time_left, no_improv))\n",
    "\n",
    "        # Putting data on gpu\n",
    "        batch = batch.to(processor)\n",
    "        labels = labels.to(processor)\n",
    "\n",
    "        model.train()\n",
    "        model.zero_grad()\n",
    "\n",
    "        out = model(batch)\n",
    "        loss = loss_function(out, labels)\n",
    "\n",
    "        if loss.item() < min_loss:\n",
    "            #model.save(\"temp_best_model.pth\")\n",
    "            #torch.save(model.state_dict(), \"temp_best_model.pth\")\n",
    "            min_loss = loss.item()\n",
    "            no_improv = 0\n",
    "        else:\n",
    "            no_improv += 1\n",
    "        \n",
    "        # For tracking progress\n",
    "        end_time = datetime.now()\n",
    "        time_diff = end_time - start_time\n",
    "    \n",
    "        #print(i)\n",
    "        #print(batch.squeeze(0).size())\n",
    "        save_image(out.squeeze(0), \"model_gridless/{0}.png\".format(i))"
   ]
  },
  {
   "cell_type": "code",
   "execution_count": null,
   "metadata": {
    "collapsed": false
   },
   "outputs": [],
   "source": []
  }
 ],
 "metadata": {
  "kernelspec": {
   "argv": [
    "/usr/bin/python3",
    "-m",
    "ipykernel_launcher",
    "-f",
    "{connection_file}"
   ],
   "display_name": "Python 3",
   "env": null,
   "interrupt_mode": "signal",
   "language": "python",
   "metadata": null,
   "name": "python3"
  },
  "name": "degridifier.ipynb"
 },
 "nbformat": 4,
 "nbformat_minor": 2
}
