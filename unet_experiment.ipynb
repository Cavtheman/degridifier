{
 "cells": [
  {
   "cell_type": "code",
   "execution_count": 1,
   "metadata": {
    "collapsed": false
   },
   "outputs": [],
   "source": [
    "import torch\n",
    "import torch.nn as nn\n",
    "import torch.optim as optim\n",
    "\n",
    "import torch.nn.functional as F\n",
    "from torch.utils import data\n",
    "from torchvision.utils import save_image\n",
    "\n",
    "import sys\n",
    "import random\n",
    "from datetime import datetime\n",
    "import matplotlib.pyplot as plt\n",
    "import numpy as np\n",
    "\n",
    "# My own files\n",
    "from gridifier import gridify\n",
    "from data_generator import Dataset\n",
    "from unet import Unet\n",
    "from resunet import ResUnet"
   ]
  },
  {
   "cell_type": "code",
   "execution_count": null,
   "metadata": {
    "collapsed": false
   },
   "outputs": [
    {
     "name": "stdout",
     "output_type": "stream",
     "text": [
      "Using GPU: True\n"
     ]
    }
   ],
   "source": [
    "\n",
    "use_cuda = torch.cuda.is_available() and True\n",
    "print(\"Using GPU:\", use_cuda)\n",
    "processor = torch.device(\"cuda:0\" if use_cuda else \"cpu\")\n",
    "torch.backends.cudnn.benchmark = True\n",
    "\n",
    "\n",
    "# Initialising the data generator and model\n",
    "labels_path = \"data/train/nogrid/\"\n",
    "val_path = \"data/val/nogrid/\" \n",
    "conv_depth = [5,7,5]\n",
    "batch_size = 4\n",
    "max_imgs = 10000\n",
    "\n",
    "augments = {\"grid_size\" : (30,30),\n",
    "            \"grid_intensity\" : (-1,1),\n",
    "            \"grid_offset_x\" : (0,90),\n",
    "            \"grid_offset_y\" : (0,90),\n",
    "            \"crop\" : (400,400),\n",
    "            \"hflip\" : 0.5,\n",
    "            \"vflip\" : 0.5,\n",
    "            \"angle\" : 0,\n",
    "            \"shear\" : 0,\n",
    "            \"brightness\" : (0.75,1.25),\n",
    "            \"pad\" : (0,0,0,0),\n",
    "            \"contrast\" : (0.5,1)}\n",
    "\n",
    "dataset = Dataset(max_imgs, labels_path, **augments)\n",
    "validation_set = Dataset(max_imgs, val_path, **augments, seed=1337)\n",
    "\n",
    "training_generator = data.DataLoader(dataset, batch_size=batch_size, shuffle=True, num_workers=8)\n",
    "validation_generator = data.DataLoader(dataset, batch_size=batch_size, shuffle=False, num_workers=8)\n",
    "\n",
    "\n",
    "#model = Unet (3,3).to(processor)\n",
    "model = ResUnet (3,3).to(processor)\n",
    "\n",
    "#loss_function = nn.L1Loss().to(processor)\n",
    "loss_function = nn.MSELoss().to(processor)\n",
    "optimiser = optim.Adam(model.parameters(), lr=1e-4)\n",
    "#print (dataset.__get_all_files__(\"data/nogrid/\"))\n",
    "#dataset.test()"
   ]
  },
  {
   "cell_type": "code",
   "execution_count": null,
   "metadata": {
    "collapsed": false
   },
   "outputs": [
    {
     "name": "stdout",
     "output_type": "stream",
     "text": [
      "\r",
      "Epoch: 1. Batch: 1. Min loss: inf. Time left: 0. Best: 0 batches ago. Val loss: inf"
     ]
    },
    {
     "name": "stdout",
     "output_type": "stream",
     "text": [
      "\r",
      "Epoch: 1. Batch: 2. Min loss: 0.09110. Time left: 2:56:18. Best: 0 batches ago. Val loss: inf"
     ]
    },
    {
     "name": "stdout",
     "output_type": "stream",
     "text": [
      "\r",
      "Epoch: 1. Batch: 3. Min loss: 0.07366. Time left: 0:21:50. Best: 0 batches ago. Val loss: inf"
     ]
    },
    {
     "name": "stdout",
     "output_type": "stream",
     "text": [
      "\r",
      "Epoch: 1. Batch: 4. Min loss: 0.07366. Time left: 0:21:46. Best: 1 batches ago. Val loss: inf"
     ]
    },
    {
     "name": "stdout",
     "output_type": "stream",
     "text": [
      "\r",
      "Epoch: 1. Batch: 5. Min loss: 0.07366. Time left: 0:21:39. Best: 2 batches ago. Val loss: inf"
     ]
    },
    {
     "name": "stdout",
     "output_type": "stream",
     "text": [
      "\r",
      "Epoch: 1. Batch: 6. Min loss: 0.07366. Time left: 0:22:40. Best: 3 batches ago. Val loss: inf"
     ]
    },
    {
     "name": "stdout",
     "output_type": "stream",
     "text": [
      "\r",
      "Epoch: 1. Batch: 7. Min loss: 0.05386. Time left: 0:26:43. Best: 0 batches ago. Val loss: inf"
     ]
    },
    {
     "name": "stdout",
     "output_type": "stream",
     "text": [
      "\r",
      "Epoch: 1. Batch: 8. Min loss: 0.05386. Time left: 0:21:35. Best: 1 batches ago. Val loss: inf"
     ]
    },
    {
     "name": "stdout",
     "output_type": "stream",
     "text": [
      "\r",
      "Epoch: 1. Batch: 9. Min loss: 0.05386. Time left: 0:24:45. Best: 2 batches ago. Val loss: inf"
     ]
    },
    {
     "name": "stdout",
     "output_type": "stream",
     "text": [
      "\r",
      "Epoch: 1. Batch: 10. Min loss: 0.05386. Time left: 0:21:19. Best: 3 batches ago. Val loss: inf"
     ]
    },
    {
     "name": "stdout",
     "output_type": "stream",
     "text": [
      "\r",
      "Epoch: 1. Batch: 11. Min loss: 0.05386. Time left: 0:26:53. Best: 4 batches ago. Val loss: inf"
     ]
    },
    {
     "name": "stdout",
     "output_type": "stream",
     "text": [
      "\r",
      "Epoch: 1. Batch: 12. Min loss: 0.05386. Time left: 0:26:16. Best: 5 batches ago. Val loss: inf"
     ]
    },
    {
     "name": "stdout",
     "output_type": "stream",
     "text": [
      "\r",
      "Epoch: 1. Batch: 13. Min loss: 0.05386. Time left: 0:21:24. Best: 6 batches ago. Val loss: inf"
     ]
    },
    {
     "name": "stdout",
     "output_type": "stream",
     "text": [
      "\r",
      "Epoch: 1. Batch: 14. Min loss: 0.04910. Time left: 0:21:35. Best: 0 batches ago. Val loss: inf"
     ]
    },
    {
     "name": "stdout",
     "output_type": "stream",
     "text": [
      "\r",
      "Epoch: 1. Batch: 15. Min loss: 0.04910. Time left: 0:21:19. Best: 1 batches ago. Val loss: inf"
     ]
    },
    {
     "name": "stdout",
     "output_type": "stream",
     "text": [
      "\r",
      "Epoch: 1. Batch: 16. Min loss: 0.04910. Time left: 0:21:56. Best: 2 batches ago. Val loss: inf"
     ]
    },
    {
     "name": "stdout",
     "output_type": "stream",
     "text": [
      "\r",
      "Epoch: 1. Batch: 17. Min loss: 0.04910. Time left: 0:21:31. Best: 3 batches ago. Val loss: inf"
     ]
    },
    {
     "name": "stdout",
     "output_type": "stream",
     "text": [
      "\r",
      "Epoch: 1. Batch: 18. Min loss: 0.04910. Time left: 0:21:31. Best: 4 batches ago. Val loss: inf"
     ]
    },
    {
     "name": "stdout",
     "output_type": "stream",
     "text": [
      "\r",
      "Epoch: 1. Batch: 19. Min loss: 0.04910. Time left: 0:21:52. Best: 5 batches ago. Val loss: inf"
     ]
    },
    {
     "name": "stdout",
     "output_type": "stream",
     "text": [
      "\r",
      "Epoch: 1. Batch: 20. Min loss: 0.04851. Time left: 0:21:49. Best: 0 batches ago. Val loss: inf"
     ]
    },
    {
     "name": "stdout",
     "output_type": "stream",
     "text": [
      "\r",
      "Epoch: 1. Batch: 21. Min loss: 0.04851. Time left: 0:21:25. Best: 1 batches ago. Val loss: inf"
     ]
    },
    {
     "name": "stdout",
     "output_type": "stream",
     "text": [
      "\r",
      "Epoch: 1. Batch: 22. Min loss: 0.04851. Time left: 0:27:04. Best: 2 batches ago. Val loss: inf"
     ]
    },
    {
     "name": "stdout",
     "output_type": "stream",
     "text": [
      "\r",
      "Epoch: 1. Batch: 23. Min loss: 0.04851. Time left: 0:21:22. Best: 3 batches ago. Val loss: inf"
     ]
    },
    {
     "name": "stdout",
     "output_type": "stream",
     "text": [
      "\r",
      "Epoch: 1. Batch: 24. Min loss: 0.04851. Time left: 0:26:23. Best: 4 batches ago. Val loss: inf"
     ]
    },
    {
     "name": "stdout",
     "output_type": "stream",
     "text": [
      "\r",
      "Epoch: 1. Batch: 25. Min loss: 0.04851. Time left: 0:21:42. Best: 5 batches ago. Val loss: inf"
     ]
    },
    {
     "name": "stdout",
     "output_type": "stream",
     "text": [
      "\r",
      "Epoch: 1. Batch: 26. Min loss: 0.04851. Time left: 0:26:01. Best: 6 batches ago. Val loss: inf"
     ]
    },
    {
     "name": "stdout",
     "output_type": "stream",
     "text": [
      "\r",
      "Epoch: 1. Batch: 27. Min loss: 0.04851. Time left: 0:21:27. Best: 7 batches ago. Val loss: inf"
     ]
    },
    {
     "name": "stdout",
     "output_type": "stream",
     "text": [
      "\r",
      "Epoch: 1. Batch: 28. Min loss: 0.04851. Time left: 0:21:38. Best: 8 batches ago. Val loss: inf"
     ]
    },
    {
     "name": "stdout",
     "output_type": "stream",
     "text": [
      "\r",
      "Epoch: 1. Batch: 29. Min loss: 0.04851. Time left: 0:21:26. Best: 9 batches ago. Val loss: inf"
     ]
    },
    {
     "name": "stdout",
     "output_type": "stream",
     "text": [
      "\r",
      "Epoch: 1. Batch: 30. Min loss: 0.04851. Time left: 0:21:27. Best: 10 batches ago. Val loss: inf"
     ]
    },
    {
     "name": "stdout",
     "output_type": "stream",
     "text": [
      "\r",
      "Epoch: 1. Batch: 31. Min loss: 0.04851. Time left: 0:21:24. Best: 11 batches ago. Val loss: inf"
     ]
    },
    {
     "name": "stdout",
     "output_type": "stream",
     "text": [
      "\r",
      "Epoch: 1. Batch: 32. Min loss: 0.04851. Time left: 0:21:26. Best: 12 batches ago. Val loss: inf"
     ]
    },
    {
     "name": "stdout",
     "output_type": "stream",
     "text": [
      "\r",
      "Epoch: 1. Batch: 33. Min loss: 0.04851. Time left: 0:21:30. Best: 13 batches ago. Val loss: inf"
     ]
    },
    {
     "name": "stdout",
     "output_type": "stream",
     "text": [
      "\r",
      "Epoch: 1. Batch: 34. Min loss: 0.04851. Time left: 0:21:22. Best: 14 batches ago. Val loss: inf"
     ]
    },
    {
     "name": "stdout",
     "output_type": "stream",
     "text": [
      "\r",
      "Epoch: 1. Batch: 35. Min loss: 0.04851. Time left: 0:21:48. Best: 15 batches ago. Val loss: inf"
     ]
    },
    {
     "name": "stdout",
     "output_type": "stream",
     "text": [
      "\r",
      "Epoch: 1. Batch: 36. Min loss: 0.04851. Time left: 0:21:27. Best: 16 batches ago. Val loss: inf"
     ]
    },
    {
     "name": "stdout",
     "output_type": "stream",
     "text": [
      "\r",
      "Epoch: 1. Batch: 37. Min loss: 0.04661. Time left: 0:21:22. Best: 0 batches ago. Val loss: inf"
     ]
    },
    {
     "name": "stdout",
     "output_type": "stream",
     "text": [
      "\r",
      "Epoch: 1. Batch: 38. Min loss: 0.04661. Time left: 0:21:50. Best: 1 batches ago. Val loss: inf"
     ]
    },
    {
     "name": "stdout",
     "output_type": "stream",
     "text": [
      "\r",
      "Epoch: 1. Batch: 39. Min loss: 0.04130. Time left: 0:21:50. Best: 0 batches ago. Val loss: inf"
     ]
    },
    {
     "name": "stdout",
     "output_type": "stream",
     "text": [
      "\r",
      "Epoch: 1. Batch: 40. Min loss: 0.04130. Time left: 0:21:23. Best: 1 batches ago. Val loss: inf"
     ]
    },
    {
     "name": "stdout",
     "output_type": "stream",
     "text": [
      "\r",
      "Epoch: 1. Batch: 41. Min loss: 0.04130. Time left: 0:21:23. Best: 2 batches ago. Val loss: inf"
     ]
    },
    {
     "name": "stdout",
     "output_type": "stream",
     "text": [
      "\r",
      "Epoch: 1. Batch: 42. Min loss: 0.04130. Time left: 0:21:47. Best: 3 batches ago. Val loss: inf"
     ]
    },
    {
     "name": "stdout",
     "output_type": "stream",
     "text": [
      "\r",
      "Epoch: 1. Batch: 43. Min loss: 0.04130. Time left: 0:21:26. Best: 4 batches ago. Val loss: inf"
     ]
    },
    {
     "name": "stdout",
     "output_type": "stream",
     "text": [
      "\r",
      "Epoch: 1. Batch: 44. Min loss: 0.04130. Time left: 0:21:36. Best: 5 batches ago. Val loss: inf"
     ]
    },
    {
     "name": "stdout",
     "output_type": "stream",
     "text": [
      "\r",
      "Epoch: 1. Batch: 45. Min loss: 0.04130. Time left: 0:27:41. Best: 6 batches ago. Val loss: inf"
     ]
    },
    {
     "name": "stdout",
     "output_type": "stream",
     "text": [
      "\r",
      "Epoch: 1. Batch: 46. Min loss: 0.04130. Time left: 0:21:53. Best: 7 batches ago. Val loss: inf"
     ]
    },
    {
     "name": "stdout",
     "output_type": "stream",
     "text": [
      "\r",
      "Epoch: 1. Batch: 47. Min loss: 0.04130. Time left: 0:21:19. Best: 8 batches ago. Val loss: inf"
     ]
    },
    {
     "name": "stdout",
     "output_type": "stream",
     "text": [
      "\r",
      "Epoch: 1. Batch: 48. Min loss: 0.04130. Time left: 0:21:28. Best: 9 batches ago. Val loss: inf"
     ]
    },
    {
     "name": "stdout",
     "output_type": "stream",
     "text": [
      "\r",
      "Epoch: 1. Batch: 49. Min loss: 0.04130. Time left: 0:21:35. Best: 10 batches ago. Val loss: inf"
     ]
    },
    {
     "name": "stdout",
     "output_type": "stream",
     "text": [
      "\r",
      "Epoch: 1. Batch: 50. Min loss: 0.04130. Time left: 0:21:22. Best: 11 batches ago. Val loss: inf"
     ]
    },
    {
     "name": "stdout",
     "output_type": "stream",
     "text": [
      "\r",
      "Epoch: 1. Batch: 51. Min loss: 0.04130. Time left: 0:22:02. Best: 12 batches ago. Val loss: inf"
     ]
    },
    {
     "name": "stdout",
     "output_type": "stream",
     "text": [
      "\r",
      "Epoch: 1. Batch: 52. Min loss: 0.04130. Time left: 0:21:33. Best: 13 batches ago. Val loss: inf"
     ]
    },
    {
     "name": "stdout",
     "output_type": "stream",
     "text": [
      "\r",
      "Epoch: 1. Batch: 53. Min loss: 0.04130. Time left: 0:21:49. Best: 14 batches ago. Val loss: inf"
     ]
    },
    {
     "name": "stdout",
     "output_type": "stream",
     "text": [
      "\r",
      "Epoch: 1. Batch: 54. Min loss: 0.04130. Time left: 0:21:46. Best: 15 batches ago. Val loss: inf"
     ]
    },
    {
     "name": "stdout",
     "output_type": "stream",
     "text": [
      "\r",
      "Epoch: 1. Batch: 55. Min loss: 0.04130. Time left: 0:21:18. Best: 16 batches ago. Val loss: inf"
     ]
    },
    {
     "name": "stdout",
     "output_type": "stream",
     "text": [
      "\r",
      "Epoch: 1. Batch: 56. Min loss: 0.03929. Time left: 0:21:36. Best: 0 batches ago. Val loss: inf"
     ]
    },
    {
     "name": "stdout",
     "output_type": "stream",
     "text": [
      "\r",
      "Epoch: 1. Batch: 57. Min loss: 0.03929. Time left: 0:21:45. Best: 1 batches ago. Val loss: inf"
     ]
    },
    {
     "name": "stdout",
     "output_type": "stream",
     "text": [
      "\r",
      "Epoch: 1. Batch: 58. Min loss: 0.02918. Time left: 0:21:45. Best: 0 batches ago. Val loss: inf"
     ]
    },
    {
     "name": "stdout",
     "output_type": "stream",
     "text": [
      "\r",
      "Epoch: 1. Batch: 59. Min loss: 0.02918. Time left: 0:21:39. Best: 1 batches ago. Val loss: inf"
     ]
    },
    {
     "name": "stdout",
     "output_type": "stream",
     "text": [
      "\r",
      "Epoch: 1. Batch: 60. Min loss: 0.02918. Time left: 0:21:33. Best: 2 batches ago. Val loss: inf"
     ]
    },
    {
     "name": "stdout",
     "output_type": "stream",
     "text": [
      "\r",
      "Epoch: 1. Batch: 61. Min loss: 0.02918. Time left: 0:21:18. Best: 3 batches ago. Val loss: inf"
     ]
    },
    {
     "name": "stdout",
     "output_type": "stream",
     "text": [
      "\r",
      "Epoch: 1. Batch: 62. Min loss: 0.02918. Time left: 0:21:39. Best: 4 batches ago. Val loss: inf"
     ]
    },
    {
     "name": "stdout",
     "output_type": "stream",
     "text": [
      "\r",
      "Epoch: 1. Batch: 63. Min loss: 0.02918. Time left: 0:21:35. Best: 5 batches ago. Val loss: inf"
     ]
    },
    {
     "name": "stdout",
     "output_type": "stream",
     "text": [
      "\r",
      "Epoch: 1. Batch: 64. Min loss: 0.02918. Time left: 0:21:39. Best: 6 batches ago. Val loss: inf"
     ]
    },
    {
     "name": "stdout",
     "output_type": "stream",
     "text": [
      "\r",
      "Epoch: 1. Batch: 65. Min loss: 0.02918. Time left: 0:21:19. Best: 7 batches ago. Val loss: inf"
     ]
    },
    {
     "name": "stdout",
     "output_type": "stream",
     "text": [
      "\r",
      "Epoch: 1. Batch: 66. Min loss: 0.02918. Time left: 0:21:14. Best: 8 batches ago. Val loss: inf"
     ]
    },
    {
     "name": "stdout",
     "output_type": "stream",
     "text": [
      "\r",
      "Epoch: 1. Batch: 67. Min loss: 0.02918. Time left: 0:21:32. Best: 9 batches ago. Val loss: inf"
     ]
    },
    {
     "name": "stdout",
     "output_type": "stream",
     "text": [
      "\r",
      "Epoch: 1. Batch: 68. Min loss: 0.02918. Time left: 0:21:16. Best: 10 batches ago. Val loss: inf"
     ]
    },
    {
     "name": "stdout",
     "output_type": "stream",
     "text": [
      "\r",
      "Epoch: 1. Batch: 69. Min loss: 0.02918. Time left: 0:21:11. Best: 11 batches ago. Val loss: inf"
     ]
    },
    {
     "name": "stdout",
     "output_type": "stream",
     "text": [
      "\r",
      "Epoch: 1. Batch: 70. Min loss: 0.02918. Time left: 0:21:14. Best: 12 batches ago. Val loss: inf"
     ]
    },
    {
     "name": "stdout",
     "output_type": "stream",
     "text": [
      "\r",
      "Epoch: 1. Batch: 71. Min loss: 0.02918. Time left: 0:21:09. Best: 13 batches ago. Val loss: inf"
     ]
    },
    {
     "name": "stdout",
     "output_type": "stream",
     "text": [
      "\r",
      "Epoch: 1. Batch: 72. Min loss: 0.02918. Time left: 0:21:10. Best: 14 batches ago. Val loss: inf"
     ]
    },
    {
     "name": "stdout",
     "output_type": "stream",
     "text": [
      "\r",
      "Epoch: 1. Batch: 73. Min loss: 0.02918. Time left: 0:21:10. Best: 15 batches ago. Val loss: inf"
     ]
    },
    {
     "name": "stdout",
     "output_type": "stream",
     "text": [
      "\r",
      "Epoch: 1. Batch: 74. Min loss: 0.02918. Time left: 0:21:08. Best: 16 batches ago. Val loss: inf"
     ]
    },
    {
     "name": "stdout",
     "output_type": "stream",
     "text": [
      "\r",
      "Epoch: 1. Batch: 75. Min loss: 0.02918. Time left: 0:21:13. Best: 17 batches ago. Val loss: inf"
     ]
    },
    {
     "name": "stdout",
     "output_type": "stream",
     "text": [
      "\r",
      "Epoch: 1. Batch: 76. Min loss: 0.02918. Time left: 0:21:10. Best: 18 batches ago. Val loss: inf"
     ]
    },
    {
     "name": "stdout",
     "output_type": "stream",
     "text": [
      "\r",
      "Epoch: 1. Batch: 77. Min loss: 0.02918. Time left: 0:21:10. Best: 19 batches ago. Val loss: inf"
     ]
    },
    {
     "name": "stdout",
     "output_type": "stream",
     "text": [
      "\r",
      "Epoch: 1. Batch: 78. Min loss: 0.02918. Time left: 0:21:09. Best: 20 batches ago. Val loss: inf"
     ]
    },
    {
     "name": "stdout",
     "output_type": "stream",
     "text": [
      "\r",
      "Epoch: 1. Batch: 79. Min loss: 0.02918. Time left: 0:21:12. Best: 21 batches ago. Val loss: inf"
     ]
    },
    {
     "name": "stdout",
     "output_type": "stream",
     "text": [
      "\r",
      "Epoch: 1. Batch: 80. Min loss: 0.02918. Time left: 0:21:13. Best: 22 batches ago. Val loss: inf"
     ]
    },
    {
     "name": "stdout",
     "output_type": "stream",
     "text": [
      "\r",
      "Epoch: 1. Batch: 81. Min loss: 0.02918. Time left: 0:21:11. Best: 23 batches ago. Val loss: inf"
     ]
    },
    {
     "name": "stdout",
     "output_type": "stream",
     "text": [
      "\r",
      "Epoch: 1. Batch: 82. Min loss: 0.02918. Time left: 0:21:07. Best: 24 batches ago. Val loss: inf"
     ]
    },
    {
     "name": "stdout",
     "output_type": "stream",
     "text": [
      "\r",
      "Epoch: 1. Batch: 83. Min loss: 0.02918. Time left: 0:21:10. Best: 25 batches ago. Val loss: inf"
     ]
    },
    {
     "name": "stdout",
     "output_type": "stream",
     "text": [
      "\r",
      "Epoch: 1. Batch: 84. Min loss: 0.02326. Time left: 0:21:30. Best: 0 batches ago. Val loss: inf"
     ]
    },
    {
     "name": "stdout",
     "output_type": "stream",
     "text": [
      "\r",
      "Epoch: 1. Batch: 85. Min loss: 0.02326. Time left: 0:21:10. Best: 1 batches ago. Val loss: inf"
     ]
    },
    {
     "name": "stdout",
     "output_type": "stream",
     "text": [
      "\r",
      "Epoch: 1. Batch: 86. Min loss: 0.02326. Time left: 0:21:05. Best: 2 batches ago. Val loss: inf"
     ]
    },
    {
     "name": "stdout",
     "output_type": "stream",
     "text": [
      "\r",
      "Epoch: 1. Batch: 87. Min loss: 0.02326. Time left: 0:21:08. Best: 3 batches ago. Val loss: inf"
     ]
    },
    {
     "name": "stdout",
     "output_type": "stream",
     "text": [
      "\r",
      "Epoch: 1. Batch: 88. Min loss: 0.02326. Time left: 0:21:30. Best: 4 batches ago. Val loss: inf"
     ]
    },
    {
     "name": "stdout",
     "output_type": "stream",
     "text": [
      "\r",
      "Epoch: 1. Batch: 89. Min loss: 0.02326. Time left: 0:21:06. Best: 5 batches ago. Val loss: inf"
     ]
    },
    {
     "name": "stdout",
     "output_type": "stream",
     "text": [
      "\r",
      "Epoch: 1. Batch: 90. Min loss: 0.02326. Time left: 0:21:06. Best: 6 batches ago. Val loss: inf"
     ]
    },
    {
     "name": "stdout",
     "output_type": "stream",
     "text": [
      "\r",
      "Epoch: 1. Batch: 91. Min loss: 0.02326. Time left: 0:21:06. Best: 7 batches ago. Val loss: inf"
     ]
    },
    {
     "name": "stdout",
     "output_type": "stream",
     "text": [
      "\r",
      "Epoch: 1. Batch: 92. Min loss: 0.02326. Time left: 0:21:02. Best: 8 batches ago. Val loss: inf"
     ]
    },
    {
     "name": "stdout",
     "output_type": "stream",
     "text": [
      "\r",
      "Epoch: 1. Batch: 93. Min loss: 0.02326. Time left: 0:21:09. Best: 9 batches ago. Val loss: inf"
     ]
    },
    {
     "name": "stdout",
     "output_type": "stream",
     "text": [
      "\r",
      "Epoch: 1. Batch: 94. Min loss: 0.02326. Time left: 0:21:30. Best: 10 batches ago. Val loss: inf"
     ]
    },
    {
     "name": "stdout",
     "output_type": "stream",
     "text": [
      "\r",
      "Epoch: 1. Batch: 95. Min loss: 0.02326. Time left: 0:21:14. Best: 11 batches ago. Val loss: inf"
     ]
    },
    {
     "name": "stdout",
     "output_type": "stream",
     "text": [
      "\r",
      "Epoch: 1. Batch: 96. Min loss: 0.02326. Time left: 0:21:08. Best: 12 batches ago. Val loss: inf"
     ]
    },
    {
     "name": "stdout",
     "output_type": "stream",
     "text": [
      "\r",
      "Epoch: 1. Batch: 97. Min loss: 0.02326. Time left: 0:24:24. Best: 13 batches ago. Val loss: inf"
     ]
    },
    {
     "name": "stdout",
     "output_type": "stream",
     "text": [
      "\r",
      "Epoch: 1. Batch: 98. Min loss: 0.02326. Time left: 0:21:34. Best: 14 batches ago. Val loss: inf"
     ]
    },
    {
     "name": "stdout",
     "output_type": "stream",
     "text": [
      "\r",
      "Epoch: 1. Batch: 99. Min loss: 0.02326. Time left: 0:21:06. Best: 15 batches ago. Val loss: inf"
     ]
    },
    {
     "name": "stdout",
     "output_type": "stream",
     "text": [
      "\r",
      "Epoch: 1. Batch: 100. Min loss: 0.02326. Time left: 0:21:31. Best: 16 batches ago. Val loss: inf"
     ]
    },
    {
     "name": "stdout",
     "output_type": "stream",
     "text": [
      "\r",
      "Epoch: 1. Batch: 101. Min loss: 0.02326. Time left: 0:21:55. Best: 17 batches ago. Val loss: inf"
     ]
    },
    {
     "name": "stdout",
     "output_type": "stream",
     "text": [
      "\r",
      "Epoch: 1. Batch: 102. Min loss: 0.02326. Time left: 0:21:28. Best: 18 batches ago. Val loss: inf"
     ]
    },
    {
     "name": "stdout",
     "output_type": "stream",
     "text": [
      "\r",
      "Epoch: 1. Batch: 103. Min loss: 0.02326. Time left: 0:21:03. Best: 19 batches ago. Val loss: inf"
     ]
    },
    {
     "name": "stdout",
     "output_type": "stream",
     "text": [
      "\r",
      "Epoch: 1. Batch: 104. Min loss: 0.02326. Time left: 0:21:24. Best: 20 batches ago. Val loss: inf"
     ]
    },
    {
     "name": "stdout",
     "output_type": "stream",
     "text": [
      "\r",
      "Epoch: 1. Batch: 105. Min loss: 0.02326. Time left: 0:21:05. Best: 21 batches ago. Val loss: inf"
     ]
    },
    {
     "name": "stdout",
     "output_type": "stream",
     "text": [
      "\r",
      "Epoch: 1. Batch: 106. Min loss: 0.02326. Time left: 0:21:02. Best: 22 batches ago. Val loss: inf"
     ]
    },
    {
     "name": "stdout",
     "output_type": "stream",
     "text": [
      "\r",
      "Epoch: 1. Batch: 107. Min loss: 0.02326. Time left: 0:21:28. Best: 23 batches ago. Val loss: inf"
     ]
    },
    {
     "name": "stdout",
     "output_type": "stream",
     "text": [
      "\r",
      "Epoch: 1. Batch: 108. Min loss: 0.02326. Time left: 0:21:23. Best: 24 batches ago. Val loss: inf"
     ]
    },
    {
     "name": "stdout",
     "output_type": "stream",
     "text": [
      "\r",
      "Epoch: 1. Batch: 109. Min loss: 0.02326. Time left: 0:21:09. Best: 25 batches ago. Val loss: inf"
     ]
    },
    {
     "name": "stdout",
     "output_type": "stream",
     "text": [
      "\r",
      "Epoch: 1. Batch: 110. Min loss: 0.02326. Time left: 0:21:00. Best: 26 batches ago. Val loss: inf"
     ]
    },
    {
     "name": "stdout",
     "output_type": "stream",
     "text": [
      "\r",
      "Epoch: 1. Batch: 111. Min loss: 0.02326. Time left: 0:25:47. Best: 27 batches ago. Val loss: inf"
     ]
    },
    {
     "name": "stdout",
     "output_type": "stream",
     "text": [
      "\r",
      "Epoch: 1. Batch: 112. Min loss: 0.02326. Time left: 0:21:19. Best: 28 batches ago. Val loss: inf"
     ]
    },
    {
     "name": "stdout",
     "output_type": "stream",
     "text": [
      "\r",
      "Epoch: 1. Batch: 113. Min loss: 0.02326. Time left: 0:21:06. Best: 29 batches ago. Val loss: inf"
     ]
    },
    {
     "name": "stdout",
     "output_type": "stream",
     "text": [
      "\r",
      "Epoch: 1. Batch: 114. Min loss: 0.02326. Time left: 0:21:06. Best: 30 batches ago. Val loss: inf"
     ]
    },
    {
     "name": "stdout",
     "output_type": "stream",
     "text": [
      "\r",
      "Epoch: 1. Batch: 115. Min loss: 0.02326. Time left: 0:21:01. Best: 31 batches ago. Val loss: inf"
     ]
    },
    {
     "name": "stdout",
     "output_type": "stream",
     "text": [
      "\r",
      "Epoch: 1. Batch: 116. Min loss: 0.02326. Time left: 0:21:26. Best: 32 batches ago. Val loss: inf"
     ]
    },
    {
     "name": "stdout",
     "output_type": "stream",
     "text": [
      "\r",
      "Epoch: 1. Batch: 117. Min loss: 0.02326. Time left: 0:21:21. Best: 33 batches ago. Val loss: inf"
     ]
    },
    {
     "name": "stdout",
     "output_type": "stream",
     "text": [
      "\r",
      "Epoch: 1. Batch: 118. Min loss: 0.02326. Time left: 0:21:09. Best: 34 batches ago. Val loss: inf"
     ]
    },
    {
     "name": "stdout",
     "output_type": "stream",
     "text": [
      "\r",
      "Epoch: 1. Batch: 119. Min loss: 0.02326. Time left: 0:20:56. Best: 35 batches ago. Val loss: inf"
     ]
    },
    {
     "name": "stdout",
     "output_type": "stream",
     "text": [
      "\r",
      "Epoch: 1. Batch: 120. Min loss: 0.02326. Time left: 0:21:16. Best: 36 batches ago. Val loss: inf"
     ]
    },
    {
     "name": "stdout",
     "output_type": "stream",
     "text": [
      "\r",
      "Epoch: 1. Batch: 121. Min loss: 0.02326. Time left: 0:25:27. Best: 37 batches ago. Val loss: inf"
     ]
    },
    {
     "name": "stdout",
     "output_type": "stream",
     "text": [
      "\r",
      "Epoch: 1. Batch: 122. Min loss: 0.02326. Time left: 0:22:59. Best: 38 batches ago. Val loss: inf"
     ]
    },
    {
     "name": "stdout",
     "output_type": "stream",
     "text": [
      "\r",
      "Epoch: 1. Batch: 123. Min loss: 0.02326. Time left: 0:24:52. Best: 39 batches ago. Val loss: inf"
     ]
    },
    {
     "name": "stdout",
     "output_type": "stream",
     "text": [
      "\r",
      "Epoch: 2. Batch: 1. Min loss: 0.02326. Time left: 2:42:15. Best: 40 batches ago. Val loss: 0.05434"
     ]
    },
    {
     "name": "stdout",
     "output_type": "stream",
     "text": [
      "\r",
      "Epoch: 2. Batch: 2. Min loss: 0.02326. Time left: 0:22:49. Best: 41 batches ago. Val loss: 0.05434"
     ]
    },
    {
     "name": "stdout",
     "output_type": "stream",
     "text": [
      "\r",
      "Epoch: 2. Batch: 3. Min loss: 0.02326. Time left: 0:20:56. Best: 42 batches ago. Val loss: 0.05434"
     ]
    },
    {
     "name": "stdout",
     "output_type": "stream",
     "text": [
      "\r",
      "Epoch: 2. Batch: 4. Min loss: 0.02326. Time left: 0:22:23. Best: 43 batches ago. Val loss: 0.05434"
     ]
    },
    {
     "name": "stdout",
     "output_type": "stream",
     "text": [
      "\r",
      "Epoch: 2. Batch: 5. Min loss: 0.02326. Time left: 0:21:05. Best: 44 batches ago. Val loss: 0.05434"
     ]
    },
    {
     "name": "stdout",
     "output_type": "stream",
     "text": [
      "\r",
      "Epoch: 2. Batch: 6. Min loss: 0.02326. Time left: 0:21:58. Best: 45 batches ago. Val loss: 0.05434"
     ]
    },
    {
     "name": "stdout",
     "output_type": "stream",
     "text": [
      "\r",
      "Epoch: 2. Batch: 7. Min loss: 0.02326. Time left: 0:21:06. Best: 46 batches ago. Val loss: 0.05434"
     ]
    },
    {
     "name": "stdout",
     "output_type": "stream",
     "text": [
      "\r",
      "Epoch: 2. Batch: 8. Min loss: 0.02326. Time left: 0:21:03. Best: 47 batches ago. Val loss: 0.05434"
     ]
    },
    {
     "name": "stdout",
     "output_type": "stream",
     "text": [
      "\r",
      "Epoch: 2. Batch: 9. Min loss: 0.02326. Time left: 0:21:19. Best: 48 batches ago. Val loss: 0.05434"
     ]
    },
    {
     "name": "stdout",
     "output_type": "stream",
     "text": [
      "\r",
      "Epoch: 2. Batch: 10. Min loss: 0.02326. Time left: 0:21:02. Best: 49 batches ago. Val loss: 0.05434"
     ]
    },
    {
     "name": "stdout",
     "output_type": "stream",
     "text": [
      "\r",
      "Epoch: 2. Batch: 11. Min loss: 0.02326. Time left: 0:21:01. Best: 50 batches ago. Val loss: 0.05434"
     ]
    },
    {
     "name": "stdout",
     "output_type": "stream",
     "text": [
      "\r",
      "Epoch: 2. Batch: 12. Min loss: 0.02326. Time left: 0:21:28. Best: 51 batches ago. Val loss: 0.05434"
     ]
    },
    {
     "name": "stdout",
     "output_type": "stream",
     "text": [
      "\r",
      "Epoch: 2. Batch: 13. Min loss: 0.02326. Time left: 0:21:18. Best: 52 batches ago. Val loss: 0.05434"
     ]
    },
    {
     "name": "stdout",
     "output_type": "stream",
     "text": [
      "\r",
      "Epoch: 2. Batch: 14. Min loss: 0.02326. Time left: 0:23:19. Best: 53 batches ago. Val loss: 0.05434"
     ]
    },
    {
     "name": "stdout",
     "output_type": "stream",
     "text": [
      "\r",
      "Epoch: 2. Batch: 15. Min loss: 0.02326. Time left: 0:25:37. Best: 54 batches ago. Val loss: 0.05434"
     ]
    },
    {
     "name": "stdout",
     "output_type": "stream",
     "text": [
      "\r",
      "Epoch: 2. Batch: 16. Min loss: 0.02326. Time left: 0:21:19. Best: 55 batches ago. Val loss: 0.05434"
     ]
    },
    {
     "name": "stdout",
     "output_type": "stream",
     "text": [
      "\r",
      "Epoch: 2. Batch: 17. Min loss: 0.02326. Time left: 0:21:29. Best: 56 batches ago. Val loss: 0.05434"
     ]
    },
    {
     "name": "stdout",
     "output_type": "stream",
     "text": [
      "\r",
      "Epoch: 2. Batch: 18. Min loss: 0.02326. Time left: 0:21:01. Best: 57 batches ago. Val loss: 0.05434"
     ]
    },
    {
     "name": "stdout",
     "output_type": "stream",
     "text": [
      "\r",
      "Epoch: 2. Batch: 19. Min loss: 0.02326. Time left: 0:21:29. Best: 58 batches ago. Val loss: 0.05434"
     ]
    },
    {
     "name": "stdout",
     "output_type": "stream",
     "text": [
      "\r",
      "Epoch: 2. Batch: 20. Min loss: 0.02326. Time left: 0:21:17. Best: 59 batches ago. Val loss: 0.05434"
     ]
    },
    {
     "name": "stdout",
     "output_type": "stream",
     "text": [
      "\r",
      "Epoch: 2. Batch: 21. Min loss: 0.02326. Time left: 0:21:20. Best: 60 batches ago. Val loss: 0.05434"
     ]
    },
    {
     "name": "stdout",
     "output_type": "stream",
     "text": [
      "\r",
      "Epoch: 2. Batch: 22. Min loss: 0.02326. Time left: 0:20:57. Best: 61 batches ago. Val loss: 0.05434"
     ]
    },
    {
     "name": "stdout",
     "output_type": "stream",
     "text": [
      "\r",
      "Epoch: 2. Batch: 23. Min loss: 0.02326. Time left: 0:21:24. Best: 62 batches ago. Val loss: 0.05434"
     ]
    },
    {
     "name": "stdout",
     "output_type": "stream",
     "text": [
      "\r",
      "Epoch: 2. Batch: 24. Min loss: 0.02326. Time left: 0:21:32. Best: 63 batches ago. Val loss: 0.05434"
     ]
    },
    {
     "name": "stdout",
     "output_type": "stream",
     "text": [
      "\r",
      "Epoch: 2. Batch: 25. Min loss: 0.02326. Time left: 0:21:38. Best: 64 batches ago. Val loss: 0.05434"
     ]
    },
    {
     "name": "stdout",
     "output_type": "stream",
     "text": [
      "\r",
      "Epoch: 2. Batch: 26. Min loss: 0.02326. Time left: 0:21:24. Best: 65 batches ago. Val loss: 0.05434"
     ]
    },
    {
     "name": "stdout",
     "output_type": "stream",
     "text": [
      "\r",
      "Epoch: 2. Batch: 27. Min loss: 0.02326. Time left: 0:21:01. Best: 66 batches ago. Val loss: 0.05434"
     ]
    },
    {
     "name": "stdout",
     "output_type": "stream",
     "text": [
      "\r",
      "Epoch: 2. Batch: 28. Min loss: 0.02326. Time left: 0:21:18. Best: 67 batches ago. Val loss: 0.05434"
     ]
    },
    {
     "name": "stdout",
     "output_type": "stream",
     "text": [
      "\r",
      "Epoch: 2. Batch: 29. Min loss: 0.02326. Time left: 0:21:26. Best: 68 batches ago. Val loss: 0.05434"
     ]
    },
    {
     "name": "stdout",
     "output_type": "stream",
     "text": [
      "\r",
      "Epoch: 2. Batch: 30. Min loss: 0.02326. Time left: 0:21:15. Best: 69 batches ago. Val loss: 0.05434"
     ]
    },
    {
     "name": "stdout",
     "output_type": "stream",
     "text": [
      "\r",
      "Epoch: 2. Batch: 31. Min loss: 0.02326. Time left: 0:21:18. Best: 70 batches ago. Val loss: 0.05434"
     ]
    },
    {
     "name": "stdout",
     "output_type": "stream",
     "text": [
      "\r",
      "Epoch: 2. Batch: 32. Min loss: 0.02326. Time left: 0:21:00. Best: 71 batches ago. Val loss: 0.05434"
     ]
    },
    {
     "name": "stdout",
     "output_type": "stream",
     "text": [
      "\r",
      "Epoch: 2. Batch: 33. Min loss: 0.02326. Time left: 0:20:59. Best: 72 batches ago. Val loss: 0.05434"
     ]
    },
    {
     "name": "stdout",
     "output_type": "stream",
     "text": [
      "\r",
      "Epoch: 2. Batch: 34. Min loss: 0.02326. Time left: 0:20:55. Best: 73 batches ago. Val loss: 0.05434"
     ]
    },
    {
     "name": "stdout",
     "output_type": "stream",
     "text": [
      "\r",
      "Epoch: 2. Batch: 35. Min loss: 0.02326. Time left: 0:20:52. Best: 74 batches ago. Val loss: 0.05434"
     ]
    },
    {
     "name": "stdout",
     "output_type": "stream",
     "text": [
      "\r",
      "Epoch: 2. Batch: 36. Min loss: 0.02326. Time left: 0:21:13. Best: 75 batches ago. Val loss: 0.05434"
     ]
    },
    {
     "name": "stdout",
     "output_type": "stream",
     "text": [
      "\r",
      "Epoch: 2. Batch: 37. Min loss: 0.02326. Time left: 0:20:57. Best: 76 batches ago. Val loss: 0.05434"
     ]
    },
    {
     "name": "stdout",
     "output_type": "stream",
     "text": [
      "\r",
      "Epoch: 2. Batch: 38. Min loss: 0.02326. Time left: 0:20:58. Best: 77 batches ago. Val loss: 0.05434"
     ]
    },
    {
     "name": "stdout",
     "output_type": "stream",
     "text": [
      "\r",
      "Epoch: 2. Batch: 39. Min loss: 0.02326. Time left: 0:21:20. Best: 78 batches ago. Val loss: 0.05434"
     ]
    },
    {
     "name": "stdout",
     "output_type": "stream",
     "text": [
      "\r",
      "Epoch: 2. Batch: 40. Min loss: 0.02326. Time left: 0:20:55. Best: 79 batches ago. Val loss: 0.05434"
     ]
    },
    {
     "name": "stdout",
     "output_type": "stream",
     "text": [
      "\r",
      "Epoch: 2. Batch: 41. Min loss: 0.02326. Time left: 0:20:57. Best: 80 batches ago. Val loss: 0.05434"
     ]
    },
    {
     "name": "stdout",
     "output_type": "stream",
     "text": [
      "\r",
      "Epoch: 2. Batch: 42. Min loss: 0.02326. Time left: 0:20:56. Best: 81 batches ago. Val loss: 0.05434"
     ]
    },
    {
     "name": "stdout",
     "output_type": "stream",
     "text": [
      "\r",
      "Epoch: 2. Batch: 43. Min loss: 0.02326. Time left: 0:21:19. Best: 82 batches ago. Val loss: 0.05434"
     ]
    },
    {
     "name": "stdout",
     "output_type": "stream",
     "text": [
      "\r",
      "Epoch: 2. Batch: 44. Min loss: 0.02326. Time left: 0:20:58. Best: 83 batches ago. Val loss: 0.05434"
     ]
    },
    {
     "name": "stdout",
     "output_type": "stream",
     "text": [
      "\r",
      "Epoch: 2. Batch: 45. Min loss: 0.02326. Time left: 0:20:51. Best: 84 batches ago. Val loss: 0.05434"
     ]
    },
    {
     "name": "stdout",
     "output_type": "stream",
     "text": [
      "\r",
      "Epoch: 2. Batch: 46. Min loss: 0.02326. Time left: 0:21:11. Best: 85 batches ago. Val loss: 0.05434"
     ]
    },
    {
     "name": "stdout",
     "output_type": "stream",
     "text": [
      "\r",
      "Epoch: 2. Batch: 47. Min loss: 0.02326. Time left: 0:20:50. Best: 86 batches ago. Val loss: 0.05434"
     ]
    },
    {
     "name": "stdout",
     "output_type": "stream",
     "text": [
      "\r",
      "Epoch: 2. Batch: 48. Min loss: 0.02326. Time left: 0:20:58. Best: 87 batches ago. Val loss: 0.05434"
     ]
    },
    {
     "name": "stdout",
     "output_type": "stream",
     "text": [
      "\r",
      "Epoch: 2. Batch: 49. Min loss: 0.02326. Time left: 0:21:04. Best: 88 batches ago. Val loss: 0.05434"
     ]
    },
    {
     "name": "stdout",
     "output_type": "stream",
     "text": [
      "\r",
      "Epoch: 2. Batch: 50. Min loss: 0.02326. Time left: 0:20:52. Best: 89 batches ago. Val loss: 0.05434"
     ]
    },
    {
     "name": "stdout",
     "output_type": "stream",
     "text": [
      "\r",
      "Epoch: 2. Batch: 51. Min loss: 0.02326. Time left: 0:20:54. Best: 90 batches ago. Val loss: 0.05434"
     ]
    },
    {
     "name": "stdout",
     "output_type": "stream",
     "text": [
      "\r",
      "Epoch: 2. Batch: 52. Min loss: 0.02326. Time left: 0:20:50. Best: 91 batches ago. Val loss: 0.05434"
     ]
    },
    {
     "name": "stdout",
     "output_type": "stream",
     "text": [
      "\r",
      "Epoch: 2. Batch: 53. Min loss: 0.01897. Time left: 0:20:52. Best: 0 batches ago. Val loss: 0.05434"
     ]
    },
    {
     "name": "stdout",
     "output_type": "stream",
     "text": [
      "\r",
      "Epoch: 2. Batch: 54. Min loss: 0.01897. Time left: 0:21:16. Best: 1 batches ago. Val loss: 0.05434"
     ]
    },
    {
     "name": "stdout",
     "output_type": "stream",
     "text": [
      "\r",
      "Epoch: 2. Batch: 55. Min loss: 0.01897. Time left: 0:20:55. Best: 2 batches ago. Val loss: 0.05434"
     ]
    },
    {
     "name": "stdout",
     "output_type": "stream",
     "text": [
      "\r",
      "Epoch: 2. Batch: 56. Min loss: 0.01897. Time left: 0:20:54. Best: 3 batches ago. Val loss: 0.05434"
     ]
    },
    {
     "name": "stdout",
     "output_type": "stream",
     "text": [
      "\r",
      "Epoch: 2. Batch: 57. Min loss: 0.01897. Time left: 0:20:54. Best: 4 batches ago. Val loss: 0.05434"
     ]
    },
    {
     "name": "stdout",
     "output_type": "stream",
     "text": [
      "\r",
      "Epoch: 2. Batch: 58. Min loss: 0.01897. Time left: 0:21:17. Best: 5 batches ago. Val loss: 0.05434"
     ]
    },
    {
     "name": "stdout",
     "output_type": "stream",
     "text": [
      "\r",
      "Epoch: 2. Batch: 59. Min loss: 0.01897. Time left: 0:20:49. Best: 6 batches ago. Val loss: 0.05434"
     ]
    },
    {
     "name": "stdout",
     "output_type": "stream",
     "text": [
      "\r",
      "Epoch: 2. Batch: 60. Min loss: 0.01897. Time left: 0:20:54. Best: 7 batches ago. Val loss: 0.05434"
     ]
    },
    {
     "name": "stdout",
     "output_type": "stream",
     "text": [
      "\r",
      "Epoch: 2. Batch: 61. Min loss: 0.01897. Time left: 0:21:13. Best: 8 batches ago. Val loss: 0.05434"
     ]
    },
    {
     "name": "stdout",
     "output_type": "stream",
     "text": [
      "\r",
      "Epoch: 2. Batch: 62. Min loss: 0.01897. Time left: 0:21:13. Best: 9 batches ago. Val loss: 0.05434"
     ]
    },
    {
     "name": "stdout",
     "output_type": "stream",
     "text": [
      "\r",
      "Epoch: 2. Batch: 63. Min loss: 0.01897. Time left: 0:20:51. Best: 10 batches ago. Val loss: 0.05434"
     ]
    },
    {
     "name": "stdout",
     "output_type": "stream",
     "text": [
      "\r",
      "Epoch: 2. Batch: 64. Min loss: 0.01897. Time left: 0:20:52. Best: 11 batches ago. Val loss: 0.05434"
     ]
    },
    {
     "name": "stdout",
     "output_type": "stream",
     "text": [
      "\r",
      "Epoch: 2. Batch: 65. Min loss: 0.01897. Time left: 0:20:55. Best: 12 batches ago. Val loss: 0.05434"
     ]
    },
    {
     "name": "stdout",
     "output_type": "stream",
     "text": [
      "\r",
      "Epoch: 2. Batch: 66. Min loss: 0.01897. Time left: 0:21:19. Best: 13 batches ago. Val loss: 0.05434"
     ]
    },
    {
     "name": "stdout",
     "output_type": "stream",
     "text": [
      "\r",
      "Epoch: 2. Batch: 67. Min loss: 0.01897. Time left: 0:20:47. Best: 14 batches ago. Val loss: 0.05434"
     ]
    },
    {
     "name": "stdout",
     "output_type": "stream",
     "text": [
      "\r",
      "Epoch: 2. Batch: 68. Min loss: 0.01897. Time left: 0:20:54. Best: 15 batches ago. Val loss: 0.05434"
     ]
    },
    {
     "name": "stdout",
     "output_type": "stream",
     "text": [
      "\r",
      "Epoch: 2. Batch: 69. Min loss: 0.01897. Time left: 0:21:08. Best: 16 batches ago. Val loss: 0.05434"
     ]
    },
    {
     "name": "stdout",
     "output_type": "stream",
     "text": [
      "\r",
      "Epoch: 2. Batch: 70. Min loss: 0.01897. Time left: 0:20:50. Best: 17 batches ago. Val loss: 0.05434"
     ]
    },
    {
     "name": "stdout",
     "output_type": "stream",
     "text": [
      "\r",
      "Epoch: 2. Batch: 71. Min loss: 0.01897. Time left: 0:20:51. Best: 18 batches ago. Val loss: 0.05434"
     ]
    },
    {
     "name": "stdout",
     "output_type": "stream",
     "text": [
      "\r",
      "Epoch: 2. Batch: 72. Min loss: 0.01897. Time left: 0:20:55. Best: 19 batches ago. Val loss: 0.05434"
     ]
    },
    {
     "name": "stdout",
     "output_type": "stream",
     "text": [
      "\r",
      "Epoch: 2. Batch: 73. Min loss: 0.01897. Time left: 0:21:06. Best: 20 batches ago. Val loss: 0.05434"
     ]
    },
    {
     "name": "stdout",
     "output_type": "stream",
     "text": [
      "\r",
      "Epoch: 2. Batch: 74. Min loss: 0.01897. Time left: 0:21:03. Best: 21 batches ago. Val loss: 0.05434"
     ]
    },
    {
     "name": "stdout",
     "output_type": "stream",
     "text": [
      "\r",
      "Epoch: 2. Batch: 75. Min loss: 0.01897. Time left: 0:20:52. Best: 22 batches ago. Val loss: 0.05434"
     ]
    },
    {
     "name": "stdout",
     "output_type": "stream",
     "text": [
      "\r",
      "Epoch: 2. Batch: 76. Min loss: 0.01897. Time left: 0:20:51. Best: 23 batches ago. Val loss: 0.05434"
     ]
    },
    {
     "name": "stdout",
     "output_type": "stream",
     "text": [
      "\r",
      "Epoch: 2. Batch: 77. Min loss: 0.01897. Time left: 0:20:52. Best: 24 batches ago. Val loss: 0.05434"
     ]
    },
    {
     "name": "stdout",
     "output_type": "stream",
     "text": [
      "\r",
      "Epoch: 2. Batch: 78. Min loss: 0.01897. Time left: 0:21:08. Best: 25 batches ago. Val loss: 0.05434"
     ]
    },
    {
     "name": "stdout",
     "output_type": "stream",
     "text": [
      "\r",
      "Epoch: 2. Batch: 79. Min loss: 0.01897. Time left: 0:20:49. Best: 26 batches ago. Val loss: 0.05434"
     ]
    },
    {
     "name": "stdout",
     "output_type": "stream",
     "text": [
      "\r",
      "Epoch: 2. Batch: 80. Min loss: 0.01897. Time left: 0:20:50. Best: 27 batches ago. Val loss: 0.05434"
     ]
    },
    {
     "name": "stdout",
     "output_type": "stream",
     "text": [
      "\r",
      "Epoch: 2. Batch: 81. Min loss: 0.01897. Time left: 0:20:51. Best: 28 batches ago. Val loss: 0.05434"
     ]
    },
    {
     "name": "stdout",
     "output_type": "stream",
     "text": [
      "\r",
      "Epoch: 2. Batch: 82. Min loss: 0.01897. Time left: 0:21:07. Best: 29 batches ago. Val loss: 0.05434"
     ]
    },
    {
     "name": "stdout",
     "output_type": "stream",
     "text": [
      "\r",
      "Epoch: 2. Batch: 83. Min loss: 0.01897. Time left: 0:20:46. Best: 30 batches ago. Val loss: 0.05434"
     ]
    },
    {
     "name": "stdout",
     "output_type": "stream",
     "text": [
      "\r",
      "Epoch: 2. Batch: 84. Min loss: 0.01897. Time left: 0:20:51. Best: 31 batches ago. Val loss: 0.05434"
     ]
    },
    {
     "name": "stdout",
     "output_type": "stream",
     "text": [
      "\r",
      "Epoch: 2. Batch: 85. Min loss: 0.01897. Time left: 0:20:49. Best: 32 batches ago. Val loss: 0.05434"
     ]
    },
    {
     "name": "stdout",
     "output_type": "stream",
     "text": [
      "\r",
      "Epoch: 2. Batch: 86. Min loss: 0.01897. Time left: 0:20:53. Best: 33 batches ago. Val loss: 0.05434"
     ]
    },
    {
     "name": "stdout",
     "output_type": "stream",
     "text": [
      "\r",
      "Epoch: 2. Batch: 87. Min loss: 0.01897. Time left: 0:20:45. Best: 34 batches ago. Val loss: 0.05434"
     ]
    },
    {
     "name": "stdout",
     "output_type": "stream",
     "text": [
      "\r",
      "Epoch: 2. Batch: 88. Min loss: 0.01897. Time left: 0:20:46. Best: 35 batches ago. Val loss: 0.05434"
     ]
    },
    {
     "name": "stdout",
     "output_type": "stream",
     "text": [
      "\r",
      "Epoch: 2. Batch: 89. Min loss: 0.01897. Time left: 0:20:52. Best: 36 batches ago. Val loss: 0.05434"
     ]
    },
    {
     "name": "stdout",
     "output_type": "stream",
     "text": [
      "\r",
      "Epoch: 2. Batch: 90. Min loss: 0.01897. Time left: 0:20:47. Best: 37 batches ago. Val loss: 0.05434"
     ]
    },
    {
     "name": "stdout",
     "output_type": "stream",
     "text": [
      "\r",
      "Epoch: 2. Batch: 91. Min loss: 0.01897. Time left: 0:20:47. Best: 38 batches ago. Val loss: 0.05434"
     ]
    },
    {
     "name": "stdout",
     "output_type": "stream",
     "text": [
      "\r",
      "Epoch: 2. Batch: 92. Min loss: 0.01897. Time left: 0:20:47. Best: 39 batches ago. Val loss: 0.05434"
     ]
    },
    {
     "name": "stdout",
     "output_type": "stream",
     "text": [
      "\r",
      "Epoch: 2. Batch: 93. Min loss: 0.01897. Time left: 0:20:43. Best: 40 batches ago. Val loss: 0.05434"
     ]
    },
    {
     "name": "stdout",
     "output_type": "stream",
     "text": [
      "\r",
      "Epoch: 2. Batch: 94. Min loss: 0.01897. Time left: 0:20:47. Best: 41 batches ago. Val loss: 0.05434"
     ]
    },
    {
     "name": "stdout",
     "output_type": "stream",
     "text": [
      "\r",
      "Epoch: 2. Batch: 95. Min loss: 0.01897. Time left: 0:20:46. Best: 42 batches ago. Val loss: 0.05434"
     ]
    },
    {
     "name": "stdout",
     "output_type": "stream",
     "text": [
      "\r",
      "Epoch: 2. Batch: 96. Min loss: 0.01897. Time left: 0:20:47. Best: 43 batches ago. Val loss: 0.05434"
     ]
    },
    {
     "name": "stdout",
     "output_type": "stream",
     "text": [
      "\r",
      "Epoch: 2. Batch: 97. Min loss: 0.01897. Time left: 0:20:45. Best: 44 batches ago. Val loss: 0.05434"
     ]
    },
    {
     "name": "stdout",
     "output_type": "stream",
     "text": [
      "\r",
      "Epoch: 2. Batch: 98. Min loss: 0.01897. Time left: 0:20:40. Best: 45 batches ago. Val loss: 0.05434"
     ]
    },
    {
     "name": "stdout",
     "output_type": "stream",
     "text": [
      "\r",
      "Epoch: 2. Batch: 99. Min loss: 0.01897. Time left: 0:20:47. Best: 46 batches ago. Val loss: 0.05434"
     ]
    },
    {
     "name": "stdout",
     "output_type": "stream",
     "text": [
      "\r",
      "Epoch: 2. Batch: 100. Min loss: 0.01897. Time left: 0:21:00. Best: 47 batches ago. Val loss: 0.05434"
     ]
    },
    {
     "name": "stdout",
     "output_type": "stream",
     "text": [
      "\r",
      "Epoch: 2. Batch: 101. Min loss: 0.01897. Time left: 0:20:46. Best: 48 batches ago. Val loss: 0.05434"
     ]
    },
    {
     "name": "stdout",
     "output_type": "stream",
     "text": [
      "\r",
      "Epoch: 2. Batch: 102. Min loss: 0.01897. Time left: 0:20:45. Best: 49 batches ago. Val loss: 0.05434"
     ]
    },
    {
     "name": "stdout",
     "output_type": "stream",
     "text": [
      "\r",
      "Epoch: 2. Batch: 103. Min loss: 0.01897. Time left: 0:20:44. Best: 50 batches ago. Val loss: 0.05434"
     ]
    },
    {
     "name": "stdout",
     "output_type": "stream",
     "text": [
      "\r",
      "Epoch: 2. Batch: 104. Min loss: 0.01897. Time left: 0:20:40. Best: 51 batches ago. Val loss: 0.05434"
     ]
    },
    {
     "name": "stdout",
     "output_type": "stream",
     "text": [
      "\r",
      "Epoch: 2. Batch: 105. Min loss: 0.01897. Time left: 0:20:47. Best: 52 batches ago. Val loss: 0.05434"
     ]
    },
    {
     "name": "stdout",
     "output_type": "stream",
     "text": [
      "\r",
      "Epoch: 2. Batch: 106. Min loss: 0.01897. Time left: 0:20:55. Best: 53 batches ago. Val loss: 0.05434"
     ]
    },
    {
     "name": "stdout",
     "output_type": "stream",
     "text": [
      "\r",
      "Epoch: 2. Batch: 107. Min loss: 0.01897. Time left: 0:20:43. Best: 54 batches ago. Val loss: 0.05434"
     ]
    },
    {
     "name": "stdout",
     "output_type": "stream",
     "text": [
      "\r",
      "Epoch: 2. Batch: 108. Min loss: 0.01897. Time left: 0:20:45. Best: 55 batches ago. Val loss: 0.05434"
     ]
    },
    {
     "name": "stdout",
     "output_type": "stream",
     "text": [
      "\r",
      "Epoch: 2. Batch: 109. Min loss: 0.01897. Time left: 0:20:31. Best: 56 batches ago. Val loss: 0.05434"
     ]
    },
    {
     "name": "stdout",
     "output_type": "stream",
     "text": [
      "\r",
      "Epoch: 2. Batch: 110. Min loss: 0.01897. Time left: 0:20:55. Best: 57 batches ago. Val loss: 0.05434"
     ]
    },
    {
     "name": "stdout",
     "output_type": "stream",
     "text": [
      "\r",
      "Epoch: 2. Batch: 111. Min loss: 0.01897. Time left: 0:20:35. Best: 58 batches ago. Val loss: 0.05434"
     ]
    },
    {
     "name": "stdout",
     "output_type": "stream",
     "text": [
      "\r",
      "Epoch: 2. Batch: 112. Min loss: 0.01897. Time left: 0:20:51. Best: 59 batches ago. Val loss: 0.05434"
     ]
    },
    {
     "name": "stdout",
     "output_type": "stream",
     "text": [
      "\r",
      "Epoch: 2. Batch: 113. Min loss: 0.01897. Time left: 0:20:35. Best: 60 batches ago. Val loss: 0.05434"
     ]
    },
    {
     "name": "stdout",
     "output_type": "stream",
     "text": [
      "\r",
      "Epoch: 2. Batch: 114. Min loss: 0.01897. Time left: 0:20:40. Best: 61 batches ago. Val loss: 0.05434"
     ]
    },
    {
     "name": "stdout",
     "output_type": "stream",
     "text": [
      "\r",
      "Epoch: 2. Batch: 115. Min loss: 0.01897. Time left: 0:20:38. Best: 62 batches ago. Val loss: 0.05434"
     ]
    },
    {
     "name": "stdout",
     "output_type": "stream",
     "text": [
      "\r",
      "Epoch: 2. Batch: 116. Min loss: 0.01897. Time left: 0:20:36. Best: 63 batches ago. Val loss: 0.05434"
     ]
    },
    {
     "name": "stdout",
     "output_type": "stream",
     "text": [
      "\r",
      "Epoch: 2. Batch: 117. Min loss: 0.01897. Time left: 0:20:37. Best: 64 batches ago. Val loss: 0.05434"
     ]
    },
    {
     "name": "stdout",
     "output_type": "stream",
     "text": [
      "\r",
      "Epoch: 2. Batch: 118. Min loss: 0.01897. Time left: 0:20:33. Best: 65 batches ago. Val loss: 0.05434"
     ]
    },
    {
     "name": "stdout",
     "output_type": "stream",
     "text": [
      "\r",
      "Epoch: 2. Batch: 119. Min loss: 0.01897. Time left: 0:20:35. Best: 66 batches ago. Val loss: 0.05434"
     ]
    },
    {
     "name": "stdout",
     "output_type": "stream",
     "text": [
      "\r",
      "Epoch: 2. Batch: 120. Min loss: 0.01897. Time left: 0:20:34. Best: 67 batches ago. Val loss: 0.05434"
     ]
    },
    {
     "name": "stdout",
     "output_type": "stream",
     "text": [
      "\r",
      "Epoch: 2. Batch: 121. Min loss: 0.01897. Time left: 0:20:36. Best: 68 batches ago. Val loss: 0.05434"
     ]
    },
    {
     "name": "stdout",
     "output_type": "stream",
     "text": [
      "\r",
      "Epoch: 2. Batch: 122. Min loss: 0.01897. Time left: 0:20:42. Best: 69 batches ago. Val loss: 0.05434"
     ]
    },
    {
     "name": "stdout",
     "output_type": "stream",
     "text": [
      "\r",
      "Epoch: 2. Batch: 123. Min loss: 0.01897. Time left: 0:20:37. Best: 70 batches ago. Val loss: 0.05434"
     ]
    },
    {
     "name": "stdout",
     "output_type": "stream",
     "text": [
      "\r",
      "Epoch: 3. Batch: 1. Min loss: 0.01897. Time left: 0:15:46. Best: 71 batches ago. Val loss: 0.03961"
     ]
    },
    {
     "name": "stdout",
     "output_type": "stream",
     "text": [
      "\r",
      "Epoch: 3. Batch: 2. Min loss: 0.01897. Time left: 0:20:50. Best: 72 batches ago. Val loss: 0.03961"
     ]
    },
    {
     "name": "stdout",
     "output_type": "stream",
     "text": [
      "\r",
      "Epoch: 3. Batch: 3. Min loss: 0.01897. Time left: 0:20:38. Best: 73 batches ago. Val loss: 0.03961"
     ]
    },
    {
     "name": "stdout",
     "output_type": "stream",
     "text": [
      "\r",
      "Epoch: 3. Batch: 4. Min loss: 0.01897. Time left: 0:20:47. Best: 74 batches ago. Val loss: 0.03961"
     ]
    },
    {
     "name": "stdout",
     "output_type": "stream",
     "text": [
      "\r",
      "Epoch: 3. Batch: 5. Min loss: 0.01897. Time left: 0:20:46. Best: 75 batches ago. Val loss: 0.03961"
     ]
    },
    {
     "name": "stdout",
     "output_type": "stream",
     "text": [
      "\r",
      "Epoch: 3. Batch: 6. Min loss: 0.01897. Time left: 0:20:47. Best: 76 batches ago. Val loss: 0.03961"
     ]
    },
    {
     "name": "stdout",
     "output_type": "stream",
     "text": [
      "\r",
      "Epoch: 3. Batch: 7. Min loss: 0.01897. Time left: 0:20:56. Best: 77 batches ago. Val loss: 0.03961"
     ]
    },
    {
     "name": "stdout",
     "output_type": "stream",
     "text": [
      "\r",
      "Epoch: 3. Batch: 8. Min loss: 0.01897. Time left: 0:20:42. Best: 78 batches ago. Val loss: 0.03961"
     ]
    },
    {
     "name": "stdout",
     "output_type": "stream",
     "text": [
      "\r",
      "Epoch: 3. Batch: 9. Min loss: 0.01897. Time left: 0:20:38. Best: 79 batches ago. Val loss: 0.03961"
     ]
    },
    {
     "name": "stdout",
     "output_type": "stream",
     "text": [
      "\r",
      "Epoch: 3. Batch: 10. Min loss: 0.01897. Time left: 0:20:42. Best: 80 batches ago. Val loss: 0.03961"
     ]
    },
    {
     "name": "stdout",
     "output_type": "stream",
     "text": [
      "\r",
      "Epoch: 3. Batch: 11. Min loss: 0.01897. Time left: 0:20:39. Best: 81 batches ago. Val loss: 0.03961"
     ]
    },
    {
     "name": "stdout",
     "output_type": "stream",
     "text": [
      "\r",
      "Epoch: 3. Batch: 12. Min loss: 0.01897. Time left: 0:20:42. Best: 82 batches ago. Val loss: 0.03961"
     ]
    },
    {
     "name": "stdout",
     "output_type": "stream",
     "text": [
      "\r",
      "Epoch: 3. Batch: 13. Min loss: 0.01897. Time left: 0:21:01. Best: 83 batches ago. Val loss: 0.03961"
     ]
    },
    {
     "name": "stdout",
     "output_type": "stream",
     "text": [
      "\r",
      "Epoch: 3. Batch: 14. Min loss: 0.01897. Time left: 0:20:41. Best: 84 batches ago. Val loss: 0.03961"
     ]
    },
    {
     "name": "stdout",
     "output_type": "stream",
     "text": [
      "\r",
      "Epoch: 3. Batch: 15. Min loss: 0.01897. Time left: 0:20:41. Best: 85 batches ago. Val loss: 0.03961"
     ]
    },
    {
     "name": "stdout",
     "output_type": "stream",
     "text": [
      "\r",
      "Epoch: 3. Batch: 16. Min loss: 0.01897. Time left: 0:20:44. Best: 86 batches ago. Val loss: 0.03961"
     ]
    },
    {
     "name": "stdout",
     "output_type": "stream",
     "text": [
      "\r",
      "Epoch: 3. Batch: 17. Min loss: 0.01897. Time left: 0:20:39. Best: 87 batches ago. Val loss: 0.03961"
     ]
    },
    {
     "name": "stdout",
     "output_type": "stream",
     "text": [
      "\r",
      "Epoch: 3. Batch: 18. Min loss: 0.01897. Time left: 0:20:42. Best: 88 batches ago. Val loss: 0.03961"
     ]
    },
    {
     "name": "stdout",
     "output_type": "stream",
     "text": [
      "\r",
      "Epoch: 3. Batch: 19. Min loss: 0.01897. Time left: 0:20:42. Best: 89 batches ago. Val loss: 0.03961"
     ]
    },
    {
     "name": "stdout",
     "output_type": "stream",
     "text": [
      "\r",
      "Epoch: 3. Batch: 20. Min loss: 0.01897. Time left: 0:20:41. Best: 90 batches ago. Val loss: 0.03961"
     ]
    },
    {
     "name": "stdout",
     "output_type": "stream",
     "text": [
      "\r",
      "Epoch: 3. Batch: 21. Min loss: 0.01897. Time left: 0:20:40. Best: 91 batches ago. Val loss: 0.03961"
     ]
    },
    {
     "name": "stdout",
     "output_type": "stream",
     "text": [
      "\r",
      "Epoch: 3. Batch: 22. Min loss: 0.01897. Time left: 0:20:39. Best: 92 batches ago. Val loss: 0.03961"
     ]
    },
    {
     "name": "stdout",
     "output_type": "stream",
     "text": [
      "\r",
      "Epoch: 3. Batch: 23. Min loss: 0.01897. Time left: 0:20:59. Best: 93 batches ago. Val loss: 0.03961"
     ]
    },
    {
     "name": "stdout",
     "output_type": "stream",
     "text": [
      "\r",
      "Epoch: 3. Batch: 24. Min loss: 0.01897. Time left: 0:20:57. Best: 94 batches ago. Val loss: 0.03961"
     ]
    },
    {
     "name": "stdout",
     "output_type": "stream",
     "text": [
      "\r",
      "Epoch: 3. Batch: 25. Min loss: 0.01897. Time left: 0:20:40. Best: 95 batches ago. Val loss: 0.03961"
     ]
    },
    {
     "name": "stdout",
     "output_type": "stream",
     "text": [
      "\r",
      "Epoch: 3. Batch: 26. Min loss: 0.01897. Time left: 0:20:38. Best: 96 batches ago. Val loss: 0.03961"
     ]
    },
    {
     "name": "stdout",
     "output_type": "stream",
     "text": [
      "\r",
      "Epoch: 3. Batch: 27. Min loss: 0.01897. Time left: 0:21:01. Best: 97 batches ago. Val loss: 0.03961"
     ]
    },
    {
     "name": "stdout",
     "output_type": "stream",
     "text": [
      "\r",
      "Epoch: 3. Batch: 28. Min loss: 0.01824. Time left: 0:20:39. Best: 0 batches ago. Val loss: 0.03961"
     ]
    },
    {
     "name": "stdout",
     "output_type": "stream",
     "text": [
      "\r",
      "Epoch: 3. Batch: 29. Min loss: 0.01824. Time left: 0:20:36. Best: 1 batches ago. Val loss: 0.03961"
     ]
    },
    {
     "name": "stdout",
     "output_type": "stream",
     "text": [
      "\r",
      "Epoch: 3. Batch: 30. Min loss: 0.01824. Time left: 0:21:17. Best: 2 batches ago. Val loss: 0.03961"
     ]
    },
    {
     "name": "stdout",
     "output_type": "stream",
     "text": [
      "\r",
      "Epoch: 3. Batch: 31. Min loss: 0.01824. Time left: 0:20:42. Best: 3 batches ago. Val loss: 0.03961"
     ]
    },
    {
     "name": "stdout",
     "output_type": "stream",
     "text": [
      "\r",
      "Epoch: 3. Batch: 32. Min loss: 0.01824. Time left: 0:20:40. Best: 4 batches ago. Val loss: 0.03961"
     ]
    },
    {
     "name": "stdout",
     "output_type": "stream",
     "text": [
      "\r",
      "Epoch: 3. Batch: 33. Min loss: 0.01824. Time left: 0:21:19. Best: 5 batches ago. Val loss: 0.03961"
     ]
    },
    {
     "name": "stdout",
     "output_type": "stream",
     "text": [
      "\r",
      "Epoch: 3. Batch: 34. Min loss: 0.01824. Time left: 0:20:44. Best: 6 batches ago. Val loss: 0.03961"
     ]
    },
    {
     "name": "stdout",
     "output_type": "stream",
     "text": [
      "\r",
      "Epoch: 3. Batch: 35. Min loss: 0.01824. Time left: 0:20:37. Best: 7 batches ago. Val loss: 0.03961"
     ]
    },
    {
     "name": "stdout",
     "output_type": "stream",
     "text": [
      "\r",
      "Epoch: 3. Batch: 36. Min loss: 0.01824. Time left: 0:21:12. Best: 8 batches ago. Val loss: 0.03961"
     ]
    },
    {
     "name": "stdout",
     "output_type": "stream",
     "text": [
      "\r",
      "Epoch: 3. Batch: 37. Min loss: 0.01824. Time left: 0:20:33. Best: 9 batches ago. Val loss: 0.03961"
     ]
    },
    {
     "name": "stdout",
     "output_type": "stream",
     "text": [
      "\r",
      "Epoch: 3. Batch: 38. Min loss: 0.01824. Time left: 0:20:59. Best: 10 batches ago. Val loss: 0.03961"
     ]
    },
    {
     "name": "stdout",
     "output_type": "stream",
     "text": [
      "\r",
      "Epoch: 3. Batch: 39. Min loss: 0.01824. Time left: 0:20:35. Best: 11 batches ago. Val loss: 0.03961"
     ]
    },
    {
     "name": "stdout",
     "output_type": "stream",
     "text": [
      "\r",
      "Epoch: 3. Batch: 40. Min loss: 0.01824. Time left: 0:20:35. Best: 12 batches ago. Val loss: 0.03961"
     ]
    },
    {
     "name": "stdout",
     "output_type": "stream",
     "text": [
      "\r",
      "Epoch: 3. Batch: 41. Min loss: 0.01824. Time left: 0:21:04. Best: 13 batches ago. Val loss: 0.03961"
     ]
    },
    {
     "name": "stdout",
     "output_type": "stream",
     "text": [
      "\r",
      "Epoch: 3. Batch: 42. Min loss: 0.01824. Time left: 0:20:37. Best: 14 batches ago. Val loss: 0.03961"
     ]
    },
    {
     "name": "stdout",
     "output_type": "stream",
     "text": [
      "\r",
      "Epoch: 3. Batch: 43. Min loss: 0.01824. Time left: 0:21:02. Best: 15 batches ago. Val loss: 0.03961"
     ]
    },
    {
     "name": "stdout",
     "output_type": "stream",
     "text": [
      "\r",
      "Epoch: 3. Batch: 44. Min loss: 0.01824. Time left: 0:20:32. Best: 16 batches ago. Val loss: 0.03961"
     ]
    },
    {
     "name": "stdout",
     "output_type": "stream",
     "text": [
      "\r",
      "Epoch: 3. Batch: 45. Min loss: 0.01824. Time left: 0:20:59. Best: 17 batches ago. Val loss: 0.03961"
     ]
    },
    {
     "name": "stdout",
     "output_type": "stream",
     "text": [
      "\r",
      "Epoch: 3. Batch: 46. Min loss: 0.01824. Time left: 0:20:50. Best: 18 batches ago. Val loss: 0.03961"
     ]
    },
    {
     "name": "stdout",
     "output_type": "stream",
     "text": [
      "\r",
      "Epoch: 3. Batch: 47. Min loss: 0.01824. Time left: 0:20:35. Best: 19 batches ago. Val loss: 0.03961"
     ]
    },
    {
     "name": "stdout",
     "output_type": "stream",
     "text": [
      "\r",
      "Epoch: 3. Batch: 48. Min loss: 0.01824. Time left: 0:21:02. Best: 20 batches ago. Val loss: 0.03961"
     ]
    },
    {
     "name": "stdout",
     "output_type": "stream",
     "text": [
      "\r",
      "Epoch: 3. Batch: 49. Min loss: 0.01824. Time left: 0:20:57. Best: 21 batches ago. Val loss: 0.03961"
     ]
    },
    {
     "name": "stdout",
     "output_type": "stream",
     "text": [
      "\r",
      "Epoch: 3. Batch: 50. Min loss: 0.01824. Time left: 0:20:58. Best: 22 batches ago. Val loss: 0.03961"
     ]
    },
    {
     "name": "stdout",
     "output_type": "stream",
     "text": [
      "\r",
      "Epoch: 3. Batch: 51. Min loss: 0.01631. Time left: 0:21:13. Best: 0 batches ago. Val loss: 0.03961"
     ]
    },
    {
     "name": "stdout",
     "output_type": "stream",
     "text": [
      "\r",
      "Epoch: 3. Batch: 52. Min loss: 0.01631. Time left: 0:20:34. Best: 1 batches ago. Val loss: 0.03961"
     ]
    },
    {
     "name": "stdout",
     "output_type": "stream",
     "text": [
      "\r",
      "Epoch: 3. Batch: 53. Min loss: 0.01631. Time left: 0:20:31. Best: 2 batches ago. Val loss: 0.03961"
     ]
    },
    {
     "name": "stdout",
     "output_type": "stream",
     "text": [
      "\r",
      "Epoch: 3. Batch: 54. Min loss: 0.01631. Time left: 0:21:00. Best: 3 batches ago. Val loss: 0.03961"
     ]
    },
    {
     "name": "stdout",
     "output_type": "stream",
     "text": [
      "\r",
      "Epoch: 3. Batch: 55. Min loss: 0.01631. Time left: 0:20:33. Best: 4 batches ago. Val loss: 0.03961"
     ]
    },
    {
     "name": "stdout",
     "output_type": "stream",
     "text": [
      "\r",
      "Epoch: 3. Batch: 56. Min loss: 0.01631. Time left: 0:20:39. Best: 5 batches ago. Val loss: 0.03961"
     ]
    },
    {
     "name": "stdout",
     "output_type": "stream",
     "text": [
      "\r",
      "Epoch: 3. Batch: 57. Min loss: 0.01631. Time left: 0:20:35. Best: 6 batches ago. Val loss: 0.03961"
     ]
    },
    {
     "name": "stdout",
     "output_type": "stream",
     "text": [
      "\r",
      "Epoch: 3. Batch: 58. Min loss: 0.01631. Time left: 0:20:34. Best: 7 batches ago. Val loss: 0.03961"
     ]
    },
    {
     "name": "stdout",
     "output_type": "stream",
     "text": [
      "\r",
      "Epoch: 3. Batch: 59. Min loss: 0.01631. Time left: 0:20:53. Best: 8 batches ago. Val loss: 0.03961"
     ]
    },
    {
     "name": "stdout",
     "output_type": "stream",
     "text": [
      "\r",
      "Epoch: 3. Batch: 60. Min loss: 0.01631. Time left: 0:20:31. Best: 9 batches ago. Val loss: 0.03961"
     ]
    },
    {
     "name": "stdout",
     "output_type": "stream",
     "text": [
      "\r",
      "Epoch: 3. Batch: 61. Min loss: 0.01631. Time left: 0:20:36. Best: 10 batches ago. Val loss: 0.03961"
     ]
    },
    {
     "name": "stdout",
     "output_type": "stream",
     "text": [
      "\r",
      "Epoch: 3. Batch: 62. Min loss: 0.01631. Time left: 0:20:40. Best: 11 batches ago. Val loss: 0.03961"
     ]
    },
    {
     "name": "stdout",
     "output_type": "stream",
     "text": [
      "\r",
      "Epoch: 3. Batch: 63. Min loss: 0.01631. Time left: 0:20:35. Best: 12 batches ago. Val loss: 0.03961"
     ]
    },
    {
     "name": "stdout",
     "output_type": "stream",
     "text": [
      "\r",
      "Epoch: 3. Batch: 64. Min loss: 0.01631. Time left: 0:20:26. Best: 13 batches ago. Val loss: 0.03961"
     ]
    },
    {
     "name": "stdout",
     "output_type": "stream",
     "text": [
      "\r",
      "Epoch: 3. Batch: 65. Min loss: 0.01631. Time left: 0:21:53. Best: 14 batches ago. Val loss: 0.03961"
     ]
    },
    {
     "name": "stdout",
     "output_type": "stream",
     "text": [
      "\r",
      "Epoch: 3. Batch: 66. Min loss: 0.01631. Time left: 0:22:35. Best: 15 batches ago. Val loss: 0.03961"
     ]
    },
    {
     "name": "stdout",
     "output_type": "stream",
     "text": [
      "\r",
      "Epoch: 3. Batch: 67. Min loss: 0.01631. Time left: 0:21:30. Best: 16 batches ago. Val loss: 0.03961"
     ]
    },
    {
     "name": "stdout",
     "output_type": "stream",
     "text": [
      "\r",
      "Epoch: 3. Batch: 68. Min loss: 0.01631. Time left: 0:21:10. Best: 17 batches ago. Val loss: 0.03961"
     ]
    },
    {
     "name": "stdout",
     "output_type": "stream",
     "text": [
      "\r",
      "Epoch: 3. Batch: 69. Min loss: 0.01631. Time left: 0:20:30. Best: 18 batches ago. Val loss: 0.03961"
     ]
    },
    {
     "name": "stdout",
     "output_type": "stream",
     "text": [
      "\r",
      "Epoch: 3. Batch: 70. Min loss: 0.01631. Time left: 0:21:10. Best: 19 batches ago. Val loss: 0.03961"
     ]
    },
    {
     "name": "stdout",
     "output_type": "stream",
     "text": [
      "\r",
      "Epoch: 3. Batch: 71. Min loss: 0.01631. Time left: 0:20:54. Best: 20 batches ago. Val loss: 0.03961"
     ]
    },
    {
     "name": "stdout",
     "output_type": "stream",
     "text": [
      "\r",
      "Epoch: 3. Batch: 72. Min loss: 0.01631. Time left: 0:20:31. Best: 21 batches ago. Val loss: 0.03961"
     ]
    },
    {
     "name": "stdout",
     "output_type": "stream",
     "text": [
      "\r",
      "Epoch: 3. Batch: 73. Min loss: 0.01631. Time left: 0:20:23. Best: 22 batches ago. Val loss: 0.03961"
     ]
    },
    {
     "name": "stdout",
     "output_type": "stream",
     "text": [
      "\r",
      "Epoch: 3. Batch: 74. Min loss: 0.01631. Time left: 0:21:03. Best: 23 batches ago. Val loss: 0.03961"
     ]
    },
    {
     "name": "stdout",
     "output_type": "stream",
     "text": [
      "\r",
      "Epoch: 3. Batch: 75. Min loss: 0.01631. Time left: 0:21:03. Best: 24 batches ago. Val loss: 0.03961"
     ]
    },
    {
     "name": "stdout",
     "output_type": "stream",
     "text": [
      "\r",
      "Epoch: 3. Batch: 76. Min loss: 0.01631. Time left: 0:20:27. Best: 25 batches ago. Val loss: 0.03961"
     ]
    },
    {
     "name": "stdout",
     "output_type": "stream",
     "text": [
      "\r",
      "Epoch: 3. Batch: 77. Min loss: 0.01631. Time left: 0:26:23. Best: 26 batches ago. Val loss: 0.03961"
     ]
    },
    {
     "name": "stdout",
     "output_type": "stream",
     "text": [
      "\r",
      "Epoch: 3. Batch: 78. Min loss: 0.01631. Time left: 0:22:13. Best: 27 batches ago. Val loss: 0.03961"
     ]
    },
    {
     "name": "stdout",
     "output_type": "stream",
     "text": [
      "\r",
      "Epoch: 3. Batch: 79. Min loss: 0.01631. Time left: 0:20:27. Best: 28 batches ago. Val loss: 0.03961"
     ]
    },
    {
     "name": "stdout",
     "output_type": "stream",
     "text": [
      "\r",
      "Epoch: 3. Batch: 80. Min loss: 0.01631. Time left: 0:24:06. Best: 29 batches ago. Val loss: 0.03961"
     ]
    },
    {
     "name": "stdout",
     "output_type": "stream",
     "text": [
      "\r",
      "Epoch: 3. Batch: 81. Min loss: 0.01631. Time left: 0:21:54. Best: 30 batches ago. Val loss: 0.03961"
     ]
    },
    {
     "name": "stdout",
     "output_type": "stream",
     "text": [
      "\r",
      "Epoch: 3. Batch: 82. Min loss: 0.01631. Time left: 0:21:21. Best: 31 batches ago. Val loss: 0.03961"
     ]
    },
    {
     "name": "stdout",
     "output_type": "stream",
     "text": [
      "\r",
      "Epoch: 3. Batch: 83. Min loss: 0.01631. Time left: 0:20:35. Best: 32 batches ago. Val loss: 0.03961"
     ]
    },
    {
     "name": "stdout",
     "output_type": "stream",
     "text": [
      "\r",
      "Epoch: 3. Batch: 84. Min loss: 0.01631. Time left: 0:20:34. Best: 33 batches ago. Val loss: 0.03961"
     ]
    },
    {
     "name": "stdout",
     "output_type": "stream",
     "text": [
      "\r",
      "Epoch: 3. Batch: 85. Min loss: 0.01631. Time left: 0:20:29. Best: 34 batches ago. Val loss: 0.03961"
     ]
    },
    {
     "name": "stdout",
     "output_type": "stream",
     "text": [
      "\r",
      "Epoch: 3. Batch: 86. Min loss: 0.01631. Time left: 0:20:25. Best: 35 batches ago. Val loss: 0.03961"
     ]
    },
    {
     "name": "stdout",
     "output_type": "stream",
     "text": [
      "\r",
      "Epoch: 3. Batch: 87. Min loss: 0.01631. Time left: 0:20:29. Best: 36 batches ago. Val loss: 0.03961"
     ]
    },
    {
     "name": "stdout",
     "output_type": "stream",
     "text": [
      "\r",
      "Epoch: 3. Batch: 88. Min loss: 0.01631. Time left: 0:21:23. Best: 37 batches ago. Val loss: 0.03961"
     ]
    },
    {
     "name": "stdout",
     "output_type": "stream",
     "text": [
      "\r",
      "Epoch: 3. Batch: 89. Min loss: 0.01631. Time left: 0:20:34. Best: 38 batches ago. Val loss: 0.03961"
     ]
    },
    {
     "name": "stdout",
     "output_type": "stream",
     "text": [
      "\r",
      "Epoch: 3. Batch: 90. Min loss: 0.01631. Time left: 0:20:26. Best: 39 batches ago. Val loss: 0.03961"
     ]
    },
    {
     "name": "stdout",
     "output_type": "stream",
     "text": [
      "\r",
      "Epoch: 3. Batch: 91. Min loss: 0.01631. Time left: 0:20:51. Best: 40 batches ago. Val loss: 0.03961"
     ]
    },
    {
     "name": "stdout",
     "output_type": "stream",
     "text": [
      "\r",
      "Epoch: 3. Batch: 92. Min loss: 0.01631. Time left: 0:20:24. Best: 41 batches ago. Val loss: 0.03961"
     ]
    },
    {
     "name": "stdout",
     "output_type": "stream",
     "text": [
      "\r",
      "Epoch: 3. Batch: 93. Min loss: 0.01631. Time left: 0:20:27. Best: 42 batches ago. Val loss: 0.03961"
     ]
    },
    {
     "name": "stdout",
     "output_type": "stream",
     "text": [
      "\r",
      "Epoch: 3. Batch: 94. Min loss: 0.01631. Time left: 0:20:38. Best: 43 batches ago. Val loss: 0.03961"
     ]
    },
    {
     "name": "stdout",
     "output_type": "stream",
     "text": [
      "\r",
      "Epoch: 3. Batch: 95. Min loss: 0.01631. Time left: 0:20:28. Best: 44 batches ago. Val loss: 0.03961"
     ]
    },
    {
     "name": "stdout",
     "output_type": "stream",
     "text": [
      "\r",
      "Epoch: 3. Batch: 96. Min loss: 0.01631. Time left: 0:20:30. Best: 45 batches ago. Val loss: 0.03961"
     ]
    },
    {
     "name": "stdout",
     "output_type": "stream",
     "text": [
      "\r",
      "Epoch: 3. Batch: 97. Min loss: 0.01631. Time left: 0:20:28. Best: 46 batches ago. Val loss: 0.03961"
     ]
    },
    {
     "name": "stdout",
     "output_type": "stream",
     "text": [
      "\r",
      "Epoch: 3. Batch: 98. Min loss: 0.01631. Time left: 0:20:21. Best: 47 batches ago. Val loss: 0.03961"
     ]
    },
    {
     "name": "stdout",
     "output_type": "stream",
     "text": [
      "\r",
      "Epoch: 3. Batch: 99. Min loss: 0.01631. Time left: 0:20:28. Best: 48 batches ago. Val loss: 0.03961"
     ]
    },
    {
     "name": "stdout",
     "output_type": "stream",
     "text": [
      "\r",
      "Epoch: 3. Batch: 100. Min loss: 0.01631. Time left: 0:20:23. Best: 49 batches ago. Val loss: 0.03961"
     ]
    },
    {
     "name": "stdout",
     "output_type": "stream",
     "text": [
      "\r",
      "Epoch: 3. Batch: 101. Min loss: 0.01631. Time left: 0:20:27. Best: 50 batches ago. Val loss: 0.03961"
     ]
    },
    {
     "name": "stdout",
     "output_type": "stream",
     "text": [
      "\r",
      "Epoch: 3. Batch: 102. Min loss: 0.01631. Time left: 0:20:40. Best: 51 batches ago. Val loss: 0.03961"
     ]
    },
    {
     "name": "stdout",
     "output_type": "stream",
     "text": [
      "\r",
      "Epoch: 3. Batch: 103. Min loss: 0.01631. Time left: 0:20:21. Best: 52 batches ago. Val loss: 0.03961"
     ]
    },
    {
     "name": "stdout",
     "output_type": "stream",
     "text": [
      "\r",
      "Epoch: 3. Batch: 104. Min loss: 0.01631. Time left: 0:20:41. Best: 53 batches ago. Val loss: 0.03961"
     ]
    },
    {
     "name": "stdout",
     "output_type": "stream",
     "text": [
      "\r",
      "Epoch: 3. Batch: 105. Min loss: 0.01631. Time left: 0:20:32. Best: 54 batches ago. Val loss: 0.03961"
     ]
    },
    {
     "name": "stdout",
     "output_type": "stream",
     "text": [
      "\r",
      "Epoch: 3. Batch: 106. Min loss: 0.01631. Time left: 0:20:21. Best: 55 batches ago. Val loss: 0.03961"
     ]
    },
    {
     "name": "stdout",
     "output_type": "stream",
     "text": [
      "\r",
      "Epoch: 3. Batch: 107. Min loss: 0.01631. Time left: 0:20:22. Best: 56 batches ago. Val loss: 0.03961"
     ]
    },
    {
     "name": "stdout",
     "output_type": "stream",
     "text": [
      "\r",
      "Epoch: 3. Batch: 108. Min loss: 0.01631. Time left: 0:20:47. Best: 57 batches ago. Val loss: 0.03961"
     ]
    },
    {
     "name": "stdout",
     "output_type": "stream",
     "text": [
      "\r",
      "Epoch: 3. Batch: 109. Min loss: 0.01631. Time left: 0:20:19. Best: 58 batches ago. Val loss: 0.03961"
     ]
    },
    {
     "name": "stdout",
     "output_type": "stream",
     "text": [
      "\r",
      "Epoch: 3. Batch: 110. Min loss: 0.01631. Time left: 0:20:19. Best: 59 batches ago. Val loss: 0.03961"
     ]
    },
    {
     "name": "stdout",
     "output_type": "stream",
     "text": [
      "\r",
      "Epoch: 3. Batch: 111. Min loss: 0.01631. Time left: 0:20:18. Best: 60 batches ago. Val loss: 0.03961"
     ]
    },
    {
     "name": "stdout",
     "output_type": "stream",
     "text": [
      "\r",
      "Epoch: 3. Batch: 112. Min loss: 0.01631. Time left: 0:20:34. Best: 61 batches ago. Val loss: 0.03961"
     ]
    },
    {
     "name": "stdout",
     "output_type": "stream",
     "text": [
      "\r",
      "Epoch: 3. Batch: 113. Min loss: 0.01631. Time left: 0:20:20. Best: 62 batches ago. Val loss: 0.03961"
     ]
    },
    {
     "name": "stdout",
     "output_type": "stream",
     "text": [
      "\r",
      "Epoch: 3. Batch: 114. Min loss: 0.01631. Time left: 0:20:20. Best: 63 batches ago. Val loss: 0.03961"
     ]
    },
    {
     "name": "stdout",
     "output_type": "stream",
     "text": [
      "\r",
      "Epoch: 3. Batch: 115. Min loss: 0.01631. Time left: 0:20:39. Best: 64 batches ago. Val loss: 0.03961"
     ]
    },
    {
     "name": "stdout",
     "output_type": "stream",
     "text": [
      "\r",
      "Epoch: 3. Batch: 116. Min loss: 0.01567. Time left: 0:20:20. Best: 0 batches ago. Val loss: 0.03961"
     ]
    },
    {
     "name": "stdout",
     "output_type": "stream",
     "text": [
      "\r",
      "Epoch: 3. Batch: 117. Min loss: 0.01567. Time left: 0:20:20. Best: 1 batches ago. Val loss: 0.03961"
     ]
    },
    {
     "name": "stdout",
     "output_type": "stream",
     "text": [
      "\r",
      "Epoch: 3. Batch: 118. Min loss: 0.01567. Time left: 0:20:31. Best: 2 batches ago. Val loss: 0.03961"
     ]
    },
    {
     "name": "stdout",
     "output_type": "stream",
     "text": [
      "\r",
      "Epoch: 3. Batch: 119. Min loss: 0.01567. Time left: 0:20:17. Best: 3 batches ago. Val loss: 0.03961"
     ]
    },
    {
     "name": "stdout",
     "output_type": "stream",
     "text": [
      "\r",
      "Epoch: 3. Batch: 120. Min loss: 0.01567. Time left: 0:20:18. Best: 4 batches ago. Val loss: 0.03961"
     ]
    },
    {
     "name": "stdout",
     "output_type": "stream",
     "text": [
      "\r",
      "Epoch: 3. Batch: 121. Min loss: 0.01567. Time left: 0:20:18. Best: 5 batches ago. Val loss: 0.03961"
     ]
    },
    {
     "name": "stdout",
     "output_type": "stream",
     "text": [
      "\r",
      "Epoch: 3. Batch: 122. Min loss: 0.01567. Time left: 0:20:34. Best: 6 batches ago. Val loss: 0.03961"
     ]
    },
    {
     "name": "stdout",
     "output_type": "stream",
     "text": [
      "\r",
      "Epoch: 3. Batch: 123. Min loss: 0.01567. Time left: 0:20:18. Best: 7 batches ago. Val loss: 0.03961"
     ]
    },
    {
     "name": "stdout",
     "output_type": "stream",
     "text": [
      "\r",
      "Epoch: 4. Batch: 1. Min loss: 0.01567. Time left: 0:15:31. Best: 8 batches ago. Val loss: 0.02593"
     ]
    },
    {
     "name": "stdout",
     "output_type": "stream",
     "text": [
      "\r",
      "Epoch: 4. Batch: 2. Min loss: 0.01567. Time left: 0:21:05. Best: 9 batches ago. Val loss: 0.02593"
     ]
    },
    {
     "name": "stdout",
     "output_type": "stream",
     "text": [
      "\r",
      "Epoch: 4. Batch: 3. Min loss: 0.01567. Time left: 0:20:12. Best: 10 batches ago. Val loss: 0.02593"
     ]
    },
    {
     "name": "stdout",
     "output_type": "stream",
     "text": [
      "\r",
      "Epoch: 4. Batch: 4. Min loss: 0.01567. Time left: 0:20:24. Best: 11 batches ago. Val loss: 0.02593"
     ]
    },
    {
     "name": "stdout",
     "output_type": "stream",
     "text": [
      "\r",
      "Epoch: 4. Batch: 5. Min loss: 0.01567. Time left: 0:20:22. Best: 12 batches ago. Val loss: 0.02593"
     ]
    },
    {
     "name": "stdout",
     "output_type": "stream",
     "text": [
      "\r",
      "Epoch: 4. Batch: 6. Min loss: 0.01567. Time left: 0:20:25. Best: 13 batches ago. Val loss: 0.02593"
     ]
    },
    {
     "name": "stdout",
     "output_type": "stream",
     "text": [
      "\r",
      "Epoch: 4. Batch: 7. Min loss: 0.01567. Time left: 0:20:26. Best: 14 batches ago. Val loss: 0.02593"
     ]
    },
    {
     "name": "stdout",
     "output_type": "stream",
     "text": [
      "\r",
      "Epoch: 4. Batch: 8. Min loss: 0.01567. Time left: 0:20:21. Best: 15 batches ago. Val loss: 0.02593"
     ]
    },
    {
     "name": "stdout",
     "output_type": "stream",
     "text": [
      "\r",
      "Epoch: 4. Batch: 9. Min loss: 0.01567. Time left: 0:20:21. Best: 16 batches ago. Val loss: 0.02593"
     ]
    },
    {
     "name": "stdout",
     "output_type": "stream",
     "text": [
      "\r",
      "Epoch: 4. Batch: 10. Min loss: 0.01567. Time left: 0:20:26. Best: 17 batches ago. Val loss: 0.02593"
     ]
    },
    {
     "name": "stdout",
     "output_type": "stream",
     "text": [
      "\r",
      "Epoch: 4. Batch: 11. Min loss: 0.01567. Time left: 0:20:14. Best: 18 batches ago. Val loss: 0.02593"
     ]
    },
    {
     "name": "stdout",
     "output_type": "stream",
     "text": [
      "\r",
      "Epoch: 4. Batch: 12. Min loss: 0.01567. Time left: 0:20:19. Best: 19 batches ago. Val loss: 0.02593"
     ]
    },
    {
     "name": "stdout",
     "output_type": "stream",
     "text": [
      "\r",
      "Epoch: 4. Batch: 13. Min loss: 0.01567. Time left: 0:20:36. Best: 20 batches ago. Val loss: 0.02593"
     ]
    },
    {
     "name": "stdout",
     "output_type": "stream",
     "text": [
      "\r",
      "Epoch: 4. Batch: 14. Min loss: 0.01567. Time left: 0:20:22. Best: 21 batches ago. Val loss: 0.02593"
     ]
    },
    {
     "name": "stdout",
     "output_type": "stream",
     "text": [
      "\r",
      "Epoch: 4. Batch: 15. Min loss: 0.01567. Time left: 0:20:19. Best: 22 batches ago. Val loss: 0.02593"
     ]
    },
    {
     "name": "stdout",
     "output_type": "stream",
     "text": [
      "\r",
      "Epoch: 4. Batch: 16. Min loss: 0.01567. Time left: 0:20:40. Best: 23 batches ago. Val loss: 0.02593"
     ]
    },
    {
     "name": "stdout",
     "output_type": "stream",
     "text": [
      "\r",
      "Epoch: 4. Batch: 17. Min loss: 0.01567. Time left: 0:20:21. Best: 24 batches ago. Val loss: 0.02593"
     ]
    },
    {
     "name": "stdout",
     "output_type": "stream",
     "text": [
      "\r",
      "Epoch: 4. Batch: 18. Min loss: 0.01567. Time left: 0:20:20. Best: 25 batches ago. Val loss: 0.02593"
     ]
    },
    {
     "name": "stdout",
     "output_type": "stream",
     "text": [
      "\r",
      "Epoch: 4. Batch: 19. Min loss: 0.01567. Time left: 0:20:16. Best: 26 batches ago. Val loss: 0.02593"
     ]
    },
    {
     "name": "stdout",
     "output_type": "stream",
     "text": [
      "\r",
      "Epoch: 4. Batch: 20. Min loss: 0.01567. Time left: 0:20:22. Best: 27 batches ago. Val loss: 0.02593"
     ]
    },
    {
     "name": "stdout",
     "output_type": "stream",
     "text": [
      "\r",
      "Epoch: 4. Batch: 21. Min loss: 0.01567. Time left: 0:20:12. Best: 28 batches ago. Val loss: 0.02593"
     ]
    },
    {
     "name": "stdout",
     "output_type": "stream",
     "text": [
      "\r",
      "Epoch: 4. Batch: 22. Min loss: 0.01567. Time left: 0:20:32. Best: 29 batches ago. Val loss: 0.02593"
     ]
    },
    {
     "name": "stdout",
     "output_type": "stream",
     "text": [
      "\r",
      "Epoch: 4. Batch: 23. Min loss: 0.01567. Time left: 0:20:16. Best: 30 batches ago. Val loss: 0.02593"
     ]
    },
    {
     "name": "stdout",
     "output_type": "stream",
     "text": [
      "\r",
      "Epoch: 4. Batch: 24. Min loss: 0.01567. Time left: 0:20:17. Best: 31 batches ago. Val loss: 0.02593"
     ]
    },
    {
     "name": "stdout",
     "output_type": "stream",
     "text": [
      "\r",
      "Epoch: 4. Batch: 25. Min loss: 0.01567. Time left: 0:20:16. Best: 32 batches ago. Val loss: 0.02593"
     ]
    },
    {
     "name": "stdout",
     "output_type": "stream",
     "text": [
      "\r",
      "Epoch: 4. Batch: 26. Min loss: 0.01567. Time left: 0:20:38. Best: 33 batches ago. Val loss: 0.02593"
     ]
    },
    {
     "name": "stdout",
     "output_type": "stream",
     "text": [
      "\r",
      "Epoch: 4. Batch: 27. Min loss: 0.01567. Time left: 0:20:18. Best: 34 batches ago. Val loss: 0.02593"
     ]
    },
    {
     "name": "stdout",
     "output_type": "stream",
     "text": [
      "\r",
      "Epoch: 4. Batch: 28. Min loss: 0.01567. Time left: 0:20:10. Best: 35 batches ago. Val loss: 0.02593"
     ]
    },
    {
     "name": "stdout",
     "output_type": "stream",
     "text": [
      "\r",
      "Epoch: 4. Batch: 29. Min loss: 0.01567. Time left: 0:20:14. Best: 36 batches ago. Val loss: 0.02593"
     ]
    },
    {
     "name": "stdout",
     "output_type": "stream",
     "text": [
      "\r",
      "Epoch: 4. Batch: 30. Min loss: 0.01567. Time left: 0:20:30. Best: 37 batches ago. Val loss: 0.02593"
     ]
    },
    {
     "name": "stdout",
     "output_type": "stream",
     "text": [
      "\r",
      "Epoch: 4. Batch: 31. Min loss: 0.01567. Time left: 0:20:13. Best: 38 batches ago. Val loss: 0.02593"
     ]
    },
    {
     "name": "stdout",
     "output_type": "stream",
     "text": [
      "\r",
      "Epoch: 4. Batch: 32. Min loss: 0.01567. Time left: 0:20:14. Best: 39 batches ago. Val loss: 0.02593"
     ]
    },
    {
     "name": "stdout",
     "output_type": "stream",
     "text": [
      "\r",
      "Epoch: 4. Batch: 33. Min loss: 0.01567. Time left: 0:20:14. Best: 40 batches ago. Val loss: 0.02593"
     ]
    },
    {
     "name": "stdout",
     "output_type": "stream",
     "text": [
      "\r",
      "Epoch: 4. Batch: 34. Min loss: 0.01567. Time left: 0:20:14. Best: 41 batches ago. Val loss: 0.02593"
     ]
    },
    {
     "name": "stdout",
     "output_type": "stream",
     "text": [
      "\r",
      "Epoch: 4. Batch: 35. Min loss: 0.01567. Time left: 0:20:34. Best: 42 batches ago. Val loss: 0.02593"
     ]
    },
    {
     "name": "stdout",
     "output_type": "stream",
     "text": [
      "\r",
      "Epoch: 4. Batch: 36. Min loss: 0.01567. Time left: 0:20:16. Best: 43 batches ago. Val loss: 0.02593"
     ]
    },
    {
     "name": "stdout",
     "output_type": "stream",
     "text": [
      "\r",
      "Epoch: 4. Batch: 37. Min loss: 0.01567. Time left: 0:20:11. Best: 44 batches ago. Val loss: 0.02593"
     ]
    },
    {
     "name": "stdout",
     "output_type": "stream",
     "text": [
      "\r",
      "Epoch: 4. Batch: 38. Min loss: 0.01567. Time left: 0:20:20. Best: 45 batches ago. Val loss: 0.02593"
     ]
    },
    {
     "name": "stdout",
     "output_type": "stream",
     "text": [
      "\r",
      "Epoch: 4. Batch: 39. Min loss: 0.01567. Time left: 0:20:09. Best: 46 batches ago. Val loss: 0.02593"
     ]
    },
    {
     "name": "stdout",
     "output_type": "stream",
     "text": [
      "\r",
      "Epoch: 4. Batch: 40. Min loss: 0.01567. Time left: 0:20:09. Best: 47 batches ago. Val loss: 0.02593"
     ]
    },
    {
     "name": "stdout",
     "output_type": "stream",
     "text": [
      "\r",
      "Epoch: 4. Batch: 41. Min loss: 0.01567. Time left: 0:20:13. Best: 48 batches ago. Val loss: 0.02593"
     ]
    },
    {
     "name": "stdout",
     "output_type": "stream",
     "text": [
      "\r",
      "Epoch: 4. Batch: 42. Min loss: 0.01567. Time left: 0:20:29. Best: 49 batches ago. Val loss: 0.02593"
     ]
    },
    {
     "name": "stdout",
     "output_type": "stream",
     "text": [
      "\r",
      "Epoch: 4. Batch: 43. Min loss: 0.01567. Time left: 0:20:17. Best: 50 batches ago. Val loss: 0.02593"
     ]
    },
    {
     "name": "stdout",
     "output_type": "stream",
     "text": [
      "\r",
      "Epoch: 4. Batch: 44. Min loss: 0.01567. Time left: 0:20:14. Best: 51 batches ago. Val loss: 0.02593"
     ]
    },
    {
     "name": "stdout",
     "output_type": "stream",
     "text": [
      "\r",
      "Epoch: 4. Batch: 45. Min loss: 0.01567. Time left: 0:20:10. Best: 52 batches ago. Val loss: 0.02593"
     ]
    },
    {
     "name": "stdout",
     "output_type": "stream",
     "text": [
      "\r",
      "Epoch: 4. Batch: 46. Min loss: 0.01567. Time left: 0:20:26. Best: 53 batches ago. Val loss: 0.02593"
     ]
    },
    {
     "name": "stdout",
     "output_type": "stream",
     "text": [
      "\r",
      "Epoch: 4. Batch: 47. Min loss: 0.01377. Time left: 0:20:10. Best: 0 batches ago. Val loss: 0.02593"
     ]
    },
    {
     "name": "stdout",
     "output_type": "stream",
     "text": [
      "\r",
      "Epoch: 4. Batch: 48. Min loss: 0.01377. Time left: 0:20:06. Best: 1 batches ago. Val loss: 0.02593"
     ]
    },
    {
     "name": "stdout",
     "output_type": "stream",
     "text": [
      "\r",
      "Epoch: 4. Batch: 49. Min loss: 0.01377. Time left: 0:20:03. Best: 2 batches ago. Val loss: 0.02593"
     ]
    },
    {
     "name": "stdout",
     "output_type": "stream",
     "text": [
      "\r",
      "Epoch: 4. Batch: 50. Min loss: 0.01377. Time left: 0:20:10. Best: 3 batches ago. Val loss: 0.02593"
     ]
    },
    {
     "name": "stdout",
     "output_type": "stream",
     "text": [
      "\r",
      "Epoch: 4. Batch: 51. Min loss: 0.01377. Time left: 0:20:26. Best: 4 batches ago. Val loss: 0.02593"
     ]
    },
    {
     "name": "stdout",
     "output_type": "stream",
     "text": [
      "\r",
      "Epoch: 4. Batch: 52. Min loss: 0.01377. Time left: 0:20:07. Best: 5 batches ago. Val loss: 0.02593"
     ]
    },
    {
     "name": "stdout",
     "output_type": "stream",
     "text": [
      "\r",
      "Epoch: 4. Batch: 53. Min loss: 0.01377. Time left: 0:20:08. Best: 6 batches ago. Val loss: 0.02593"
     ]
    },
    {
     "name": "stdout",
     "output_type": "stream",
     "text": [
      "\r",
      "Epoch: 4. Batch: 54. Min loss: 0.01377. Time left: 0:20:16. Best: 7 batches ago. Val loss: 0.02593"
     ]
    },
    {
     "name": "stdout",
     "output_type": "stream",
     "text": [
      "\r",
      "Epoch: 4. Batch: 55. Min loss: 0.01377. Time left: 0:20:22. Best: 8 batches ago. Val loss: 0.02593"
     ]
    },
    {
     "name": "stdout",
     "output_type": "stream",
     "text": [
      "\r",
      "Epoch: 4. Batch: 56. Min loss: 0.01377. Time left: 0:20:12. Best: 9 batches ago. Val loss: 0.02593"
     ]
    },
    {
     "name": "stdout",
     "output_type": "stream",
     "text": [
      "\r",
      "Epoch: 4. Batch: 57. Min loss: 0.01377. Time left: 0:20:12. Best: 10 batches ago. Val loss: 0.02593"
     ]
    },
    {
     "name": "stdout",
     "output_type": "stream",
     "text": [
      "\r",
      "Epoch: 4. Batch: 58. Min loss: 0.01377. Time left: 0:20:14. Best: 11 batches ago. Val loss: 0.02593"
     ]
    },
    {
     "name": "stdout",
     "output_type": "stream",
     "text": [
      "\r",
      "Epoch: 4. Batch: 59. Min loss: 0.01377. Time left: 0:20:26. Best: 12 batches ago. Val loss: 0.02593"
     ]
    },
    {
     "name": "stdout",
     "output_type": "stream",
     "text": [
      "\r",
      "Epoch: 4. Batch: 60. Min loss: 0.01377. Time left: 0:20:10. Best: 13 batches ago. Val loss: 0.02593"
     ]
    },
    {
     "name": "stdout",
     "output_type": "stream",
     "text": [
      "\r",
      "Epoch: 4. Batch: 61. Min loss: 0.01377. Time left: 0:20:09. Best: 14 batches ago. Val loss: 0.02593"
     ]
    },
    {
     "name": "stdout",
     "output_type": "stream",
     "text": [
      "\r",
      "Epoch: 4. Batch: 62. Min loss: 0.01377. Time left: 0:20:00. Best: 15 batches ago. Val loss: 0.02593"
     ]
    },
    {
     "name": "stdout",
     "output_type": "stream",
     "text": [
      "\r",
      "Epoch: 4. Batch: 63. Min loss: 0.01377. Time left: 0:20:25. Best: 16 batches ago. Val loss: 0.02593"
     ]
    },
    {
     "name": "stdout",
     "output_type": "stream",
     "text": [
      "\r",
      "Epoch: 4. Batch: 64. Min loss: 0.01377. Time left: 0:20:11. Best: 17 batches ago. Val loss: 0.02593"
     ]
    },
    {
     "name": "stdout",
     "output_type": "stream",
     "text": [
      "\r",
      "Epoch: 4. Batch: 65. Min loss: 0.01377. Time left: 0:20:08. Best: 18 batches ago. Val loss: 0.02593"
     ]
    },
    {
     "name": "stdout",
     "output_type": "stream",
     "text": [
      "\r",
      "Epoch: 4. Batch: 66. Min loss: 0.01377. Time left: 0:20:21. Best: 19 batches ago. Val loss: 0.02593"
     ]
    },
    {
     "name": "stdout",
     "output_type": "stream",
     "text": [
      "\r",
      "Epoch: 4. Batch: 67. Min loss: 0.01223. Time left: 0:20:03. Best: 0 batches ago. Val loss: 0.02593"
     ]
    },
    {
     "name": "stdout",
     "output_type": "stream",
     "text": [
      "\r",
      "Epoch: 4. Batch: 68. Min loss: 0.01223. Time left: 0:20:05. Best: 1 batches ago. Val loss: 0.02593"
     ]
    },
    {
     "name": "stdout",
     "output_type": "stream",
     "text": [
      "\r",
      "Epoch: 4. Batch: 69. Min loss: 0.01223. Time left: 0:20:23. Best: 2 batches ago. Val loss: 0.02593"
     ]
    },
    {
     "name": "stdout",
     "output_type": "stream",
     "text": [
      "\r",
      "Epoch: 4. Batch: 70. Min loss: 0.01223. Time left: 0:20:05. Best: 3 batches ago. Val loss: 0.02593"
     ]
    },
    {
     "name": "stdout",
     "output_type": "stream",
     "text": [
      "\r",
      "Epoch: 4. Batch: 71. Min loss: 0.01223. Time left: 0:20:06. Best: 4 batches ago. Val loss: 0.02593"
     ]
    },
    {
     "name": "stdout",
     "output_type": "stream",
     "text": [
      "\r",
      "Epoch: 4. Batch: 72. Min loss: 0.01223. Time left: 0:20:23. Best: 5 batches ago. Val loss: 0.02593"
     ]
    },
    {
     "name": "stdout",
     "output_type": "stream",
     "text": [
      "\r",
      "Epoch: 4. Batch: 73. Min loss: 0.01223. Time left: 0:20:25. Best: 6 batches ago. Val loss: 0.02593"
     ]
    },
    {
     "name": "stdout",
     "output_type": "stream",
     "text": [
      "\r",
      "Epoch: 4. Batch: 74. Min loss: 0.01223. Time left: 0:20:00. Best: 7 batches ago. Val loss: 0.02593"
     ]
    },
    {
     "name": "stdout",
     "output_type": "stream",
     "text": [
      "\r",
      "Epoch: 4. Batch: 75. Min loss: 0.01223. Time left: 0:20:11. Best: 8 batches ago. Val loss: 0.02593"
     ]
    },
    {
     "name": "stdout",
     "output_type": "stream",
     "text": [
      "\r",
      "Epoch: 4. Batch: 76. Min loss: 0.01223. Time left: 0:20:04. Best: 9 batches ago. Val loss: 0.02593"
     ]
    },
    {
     "name": "stdout",
     "output_type": "stream",
     "text": [
      "\r",
      "Epoch: 4. Batch: 77. Min loss: 0.01223. Time left: 0:20:02. Best: 10 batches ago. Val loss: 0.02593"
     ]
    },
    {
     "name": "stdout",
     "output_type": "stream",
     "text": [
      "\r",
      "Epoch: 4. Batch: 78. Min loss: 0.01223. Time left: 0:20:08. Best: 11 batches ago. Val loss: 0.02593"
     ]
    },
    {
     "name": "stdout",
     "output_type": "stream",
     "text": [
      "\r",
      "Epoch: 4. Batch: 79. Min loss: 0.01223. Time left: 0:20:05. Best: 12 batches ago. Val loss: 0.02593"
     ]
    },
    {
     "name": "stdout",
     "output_type": "stream",
     "text": [
      "\r",
      "Epoch: 4. Batch: 80. Min loss: 0.01223. Time left: 0:20:05. Best: 13 batches ago. Val loss: 0.02593"
     ]
    },
    {
     "name": "stdout",
     "output_type": "stream",
     "text": [
      "\r",
      "Epoch: 4. Batch: 81. Min loss: 0.01059. Time left: 0:20:16. Best: 0 batches ago. Val loss: 0.02593"
     ]
    },
    {
     "name": "stdout",
     "output_type": "stream",
     "text": [
      "\r",
      "Epoch: 4. Batch: 82. Min loss: 0.01059. Time left: 0:20:03. Best: 1 batches ago. Val loss: 0.02593"
     ]
    },
    {
     "name": "stdout",
     "output_type": "stream",
     "text": [
      "\r",
      "Epoch: 4. Batch: 83. Min loss: 0.01059. Time left: 0:20:02. Best: 2 batches ago. Val loss: 0.02593"
     ]
    },
    {
     "name": "stdout",
     "output_type": "stream",
     "text": [
      "\r",
      "Epoch: 4. Batch: 84. Min loss: 0.01059. Time left: 0:20:29. Best: 3 batches ago. Val loss: 0.02593"
     ]
    },
    {
     "name": "stdout",
     "output_type": "stream",
     "text": [
      "\r",
      "Epoch: 4. Batch: 85. Min loss: 0.01059. Time left: 0:20:03. Best: 4 batches ago. Val loss: 0.02593"
     ]
    },
    {
     "name": "stdout",
     "output_type": "stream",
     "text": [
      "\r",
      "Epoch: 4. Batch: 86. Min loss: 0.01059. Time left: 0:20:08. Best: 5 batches ago. Val loss: 0.02593"
     ]
    },
    {
     "name": "stdout",
     "output_type": "stream",
     "text": [
      "\r",
      "Epoch: 4. Batch: 87. Min loss: 0.01059. Time left: 0:20:04. Best: 6 batches ago. Val loss: 0.02593"
     ]
    },
    {
     "name": "stdout",
     "output_type": "stream",
     "text": [
      "\r",
      "Epoch: 4. Batch: 88. Min loss: 0.01059. Time left: 0:20:03. Best: 7 batches ago. Val loss: 0.02593"
     ]
    },
    {
     "name": "stdout",
     "output_type": "stream",
     "text": [
      "\r",
      "Epoch: 4. Batch: 89. Min loss: 0.01059. Time left: 0:20:14. Best: 8 batches ago. Val loss: 0.02593"
     ]
    },
    {
     "name": "stdout",
     "output_type": "stream",
     "text": [
      "\r",
      "Epoch: 4. Batch: 90. Min loss: 0.01059. Time left: 0:20:02. Best: 9 batches ago. Val loss: 0.02593"
     ]
    },
    {
     "name": "stdout",
     "output_type": "stream",
     "text": [
      "\r",
      "Epoch: 4. Batch: 91. Min loss: 0.01059. Time left: 0:20:08. Best: 10 batches ago. Val loss: 0.02593"
     ]
    },
    {
     "name": "stdout",
     "output_type": "stream",
     "text": [
      "\r",
      "Epoch: 4. Batch: 92. Min loss: 0.00841. Time left: 0:20:30. Best: 0 batches ago. Val loss: 0.02593"
     ]
    },
    {
     "name": "stdout",
     "output_type": "stream",
     "text": [
      "\r",
      "Epoch: 4. Batch: 93. Min loss: 0.00841. Time left: 0:20:00. Best: 1 batches ago. Val loss: 0.02593"
     ]
    },
    {
     "name": "stdout",
     "output_type": "stream",
     "text": [
      "\r",
      "Epoch: 4. Batch: 94. Min loss: 0.00841. Time left: 0:20:05. Best: 2 batches ago. Val loss: 0.02593"
     ]
    },
    {
     "name": "stdout",
     "output_type": "stream",
     "text": [
      "\r",
      "Epoch: 4. Batch: 95. Min loss: 0.00841. Time left: 0:20:03. Best: 3 batches ago. Val loss: 0.02593"
     ]
    },
    {
     "name": "stdout",
     "output_type": "stream",
     "text": [
      "\r",
      "Epoch: 4. Batch: 96. Min loss: 0.00841. Time left: 0:20:08. Best: 4 batches ago. Val loss: 0.02593"
     ]
    },
    {
     "name": "stdout",
     "output_type": "stream",
     "text": [
      "\r",
      "Epoch: 4. Batch: 97. Min loss: 0.00841. Time left: 0:20:30. Best: 5 batches ago. Val loss: 0.02593"
     ]
    },
    {
     "name": "stdout",
     "output_type": "stream",
     "text": [
      "\r",
      "Epoch: 4. Batch: 98. Min loss: 0.00841. Time left: 0:20:04. Best: 6 batches ago. Val loss: 0.02593"
     ]
    },
    {
     "name": "stdout",
     "output_type": "stream",
     "text": [
      "\r",
      "Epoch: 4. Batch: 99. Min loss: 0.00841. Time left: 0:20:03. Best: 7 batches ago. Val loss: 0.02593"
     ]
    },
    {
     "name": "stdout",
     "output_type": "stream",
     "text": [
      "\r",
      "Epoch: 4. Batch: 100. Min loss: 0.00841. Time left: 0:19:57. Best: 8 batches ago. Val loss: 0.02593"
     ]
    },
    {
     "name": "stdout",
     "output_type": "stream",
     "text": [
      "\r",
      "Epoch: 4. Batch: 101. Min loss: 0.00841. Time left: 0:20:05. Best: 9 batches ago. Val loss: 0.02593"
     ]
    },
    {
     "name": "stdout",
     "output_type": "stream",
     "text": [
      "\r",
      "Epoch: 4. Batch: 102. Min loss: 0.00841. Time left: 0:19:59. Best: 10 batches ago. Val loss: 0.02593"
     ]
    },
    {
     "name": "stdout",
     "output_type": "stream",
     "text": [
      "\r",
      "Epoch: 4. Batch: 103. Min loss: 0.00841. Time left: 0:19:55. Best: 11 batches ago. Val loss: 0.02593"
     ]
    },
    {
     "name": "stdout",
     "output_type": "stream",
     "text": [
      "\r",
      "Epoch: 4. Batch: 104. Min loss: 0.00841. Time left: 0:20:16. Best: 12 batches ago. Val loss: 0.02593"
     ]
    },
    {
     "name": "stdout",
     "output_type": "stream",
     "text": [
      "\r",
      "Epoch: 4. Batch: 105. Min loss: 0.00841. Time left: 0:20:00. Best: 13 batches ago. Val loss: 0.02593"
     ]
    },
    {
     "name": "stdout",
     "output_type": "stream",
     "text": [
      "\r",
      "Epoch: 4. Batch: 106. Min loss: 0.00841. Time left: 0:20:00. Best: 14 batches ago. Val loss: 0.02593"
     ]
    },
    {
     "name": "stdout",
     "output_type": "stream",
     "text": [
      "\r",
      "Epoch: 4. Batch: 107. Min loss: 0.00841. Time left: 0:20:03. Best: 15 batches ago. Val loss: 0.02593"
     ]
    },
    {
     "name": "stdout",
     "output_type": "stream",
     "text": [
      "\r",
      "Epoch: 4. Batch: 108. Min loss: 0.00841. Time left: 0:20:17. Best: 16 batches ago. Val loss: 0.02593"
     ]
    },
    {
     "name": "stdout",
     "output_type": "stream",
     "text": [
      "\r",
      "Epoch: 4. Batch: 109. Min loss: 0.00841. Time left: 0:19:55. Best: 17 batches ago. Val loss: 0.02593"
     ]
    },
    {
     "name": "stdout",
     "output_type": "stream",
     "text": [
      "\r",
      "Epoch: 4. Batch: 110. Min loss: 0.00841. Time left: 0:19:55. Best: 18 batches ago. Val loss: 0.02593"
     ]
    },
    {
     "name": "stdout",
     "output_type": "stream",
     "text": [
      "\r",
      "Epoch: 4. Batch: 111. Min loss: 0.00841. Time left: 0:20:09. Best: 19 batches ago. Val loss: 0.02593"
     ]
    },
    {
     "name": "stdout",
     "output_type": "stream",
     "text": [
      "\r",
      "Epoch: 4. Batch: 112. Min loss: 0.00841. Time left: 0:19:54. Best: 20 batches ago. Val loss: 0.02593"
     ]
    },
    {
     "name": "stdout",
     "output_type": "stream",
     "text": [
      "\r",
      "Epoch: 4. Batch: 113. Min loss: 0.00841. Time left: 0:19:58. Best: 21 batches ago. Val loss: 0.02593"
     ]
    },
    {
     "name": "stdout",
     "output_type": "stream",
     "text": [
      "\r",
      "Epoch: 4. Batch: 114. Min loss: 0.00841. Time left: 0:19:55. Best: 22 batches ago. Val loss: 0.02593"
     ]
    },
    {
     "name": "stdout",
     "output_type": "stream",
     "text": [
      "\r",
      "Epoch: 4. Batch: 115. Min loss: 0.00841. Time left: 0:20:09. Best: 23 batches ago. Val loss: 0.02593"
     ]
    },
    {
     "name": "stdout",
     "output_type": "stream",
     "text": [
      "\r",
      "Epoch: 4. Batch: 116. Min loss: 0.00841. Time left: 0:19:54. Best: 24 batches ago. Val loss: 0.02593"
     ]
    },
    {
     "name": "stdout",
     "output_type": "stream",
     "text": [
      "\r",
      "Epoch: 4. Batch: 117. Min loss: 0.00841. Time left: 0:19:51. Best: 25 batches ago. Val loss: 0.02593"
     ]
    },
    {
     "name": "stdout",
     "output_type": "stream",
     "text": [
      "\r",
      "Epoch: 4. Batch: 118. Min loss: 0.00841. Time left: 0:20:11. Best: 26 batches ago. Val loss: 0.02593"
     ]
    },
    {
     "name": "stdout",
     "output_type": "stream",
     "text": [
      "\r",
      "Epoch: 4. Batch: 119. Min loss: 0.00841. Time left: 0:19:49. Best: 27 batches ago. Val loss: 0.02593"
     ]
    },
    {
     "name": "stdout",
     "output_type": "stream",
     "text": [
      "\r",
      "Epoch: 4. Batch: 120. Min loss: 0.00841. Time left: 0:19:52. Best: 28 batches ago. Val loss: 0.02593"
     ]
    },
    {
     "name": "stdout",
     "output_type": "stream",
     "text": [
      "\r",
      "Epoch: 4. Batch: 121. Min loss: 0.00841. Time left: 0:20:14. Best: 29 batches ago. Val loss: 0.02593"
     ]
    },
    {
     "name": "stdout",
     "output_type": "stream",
     "text": [
      "\r",
      "Epoch: 4. Batch: 122. Min loss: 0.00841. Time left: 0:19:51. Best: 30 batches ago. Val loss: 0.02593"
     ]
    },
    {
     "name": "stdout",
     "output_type": "stream",
     "text": [
      "\r",
      "Epoch: 4. Batch: 123. Min loss: 0.00841. Time left: 0:19:49. Best: 31 batches ago. Val loss: 0.02593"
     ]
    },
    {
     "name": "stdout",
     "output_type": "stream",
     "text": [
      "\r",
      "Epoch: 5. Batch: 1. Min loss: 0.00841. Time left: 0:15:17. Best: 32 batches ago. Val loss: 0.01801"
     ]
    },
    {
     "name": "stdout",
     "output_type": "stream",
     "text": [
      "\r",
      "Epoch: 5. Batch: 2. Min loss: 0.00841. Time left: 0:21:28. Best: 33 batches ago. Val loss: 0.01801"
     ]
    },
    {
     "name": "stdout",
     "output_type": "stream",
     "text": [
      "\r",
      "Epoch: 5. Batch: 3. Min loss: 0.00841. Time left: 0:20:02. Best: 34 batches ago. Val loss: 0.01801"
     ]
    },
    {
     "name": "stdout",
     "output_type": "stream",
     "text": [
      "\r",
      "Epoch: 5. Batch: 4. Min loss: 0.00841. Time left: 0:20:00. Best: 35 batches ago. Val loss: 0.01801"
     ]
    },
    {
     "name": "stdout",
     "output_type": "stream",
     "text": [
      "\r",
      "Epoch: 5. Batch: 5. Min loss: 0.00841. Time left: 0:20:02. Best: 36 batches ago. Val loss: 0.01801"
     ]
    },
    {
     "name": "stdout",
     "output_type": "stream",
     "text": [
      "\r",
      "Epoch: 5. Batch: 6. Min loss: 0.00841. Time left: 0:19:57. Best: 37 batches ago. Val loss: 0.01801"
     ]
    },
    {
     "name": "stdout",
     "output_type": "stream",
     "text": [
      "\r",
      "Epoch: 5. Batch: 7. Min loss: 0.00841. Time left: 0:20:14. Best: 38 batches ago. Val loss: 0.01801"
     ]
    },
    {
     "name": "stdout",
     "output_type": "stream",
     "text": [
      "\r",
      "Epoch: 5. Batch: 8. Min loss: 0.00841. Time left: 0:19:55. Best: 39 batches ago. Val loss: 0.01801"
     ]
    },
    {
     "name": "stdout",
     "output_type": "stream",
     "text": [
      "\r",
      "Epoch: 5. Batch: 9. Min loss: 0.00841. Time left: 0:20:12. Best: 40 batches ago. Val loss: 0.01801"
     ]
    },
    {
     "name": "stdout",
     "output_type": "stream",
     "text": [
      "\r",
      "Epoch: 5. Batch: 10. Min loss: 0.00841. Time left: 0:19:54. Best: 41 batches ago. Val loss: 0.01801"
     ]
    },
    {
     "name": "stdout",
     "output_type": "stream",
     "text": [
      "\r",
      "Epoch: 5. Batch: 11. Min loss: 0.00841. Time left: 0:19:54. Best: 42 batches ago. Val loss: 0.01801"
     ]
    },
    {
     "name": "stdout",
     "output_type": "stream",
     "text": [
      "\r",
      "Epoch: 5. Batch: 12. Min loss: 0.00841. Time left: 0:19:56. Best: 43 batches ago. Val loss: 0.01801"
     ]
    },
    {
     "name": "stdout",
     "output_type": "stream",
     "text": [
      "\r",
      "Epoch: 5. Batch: 13. Min loss: 0.00841. Time left: 0:19:54. Best: 44 batches ago. Val loss: 0.01801"
     ]
    },
    {
     "name": "stdout",
     "output_type": "stream",
     "text": [
      "\r",
      "Epoch: 5. Batch: 14. Min loss: 0.00841. Time left: 0:19:53. Best: 45 batches ago. Val loss: 0.01801"
     ]
    },
    {
     "name": "stdout",
     "output_type": "stream",
     "text": [
      "\r",
      "Epoch: 5. Batch: 15. Min loss: 0.00841. Time left: 0:19:56. Best: 46 batches ago. Val loss: 0.01801"
     ]
    },
    {
     "name": "stdout",
     "output_type": "stream",
     "text": [
      "\r",
      "Epoch: 5. Batch: 16. Min loss: 0.00841. Time left: 0:19:57. Best: 47 batches ago. Val loss: 0.01801"
     ]
    },
    {
     "name": "stdout",
     "output_type": "stream",
     "text": [
      "\r",
      "Epoch: 5. Batch: 17. Min loss: 0.00841. Time left: 0:19:51. Best: 48 batches ago. Val loss: 0.01801"
     ]
    },
    {
     "name": "stdout",
     "output_type": "stream",
     "text": [
      "\r",
      "Epoch: 5. Batch: 18. Min loss: 0.00841. Time left: 0:19:58. Best: 49 batches ago. Val loss: 0.01801"
     ]
    },
    {
     "name": "stdout",
     "output_type": "stream",
     "text": [
      "\r",
      "Epoch: 5. Batch: 19. Min loss: 0.00841. Time left: 0:19:59. Best: 50 batches ago. Val loss: 0.01801"
     ]
    },
    {
     "name": "stdout",
     "output_type": "stream",
     "text": [
      "\r",
      "Epoch: 5. Batch: 20. Min loss: 0.00841. Time left: 0:20:10. Best: 51 batches ago. Val loss: 0.01801"
     ]
    },
    {
     "name": "stdout",
     "output_type": "stream",
     "text": [
      "\r",
      "Epoch: 5. Batch: 21. Min loss: 0.00841. Time left: 0:19:52. Best: 52 batches ago. Val loss: 0.01801"
     ]
    },
    {
     "name": "stdout",
     "output_type": "stream",
     "text": [
      "\r",
      "Epoch: 5. Batch: 22. Min loss: 0.00841. Time left: 0:19:52. Best: 53 batches ago. Val loss: 0.01801"
     ]
    },
    {
     "name": "stdout",
     "output_type": "stream",
     "text": [
      "\r",
      "Epoch: 5. Batch: 23. Min loss: 0.00841. Time left: 0:19:57. Best: 54 batches ago. Val loss: 0.01801"
     ]
    },
    {
     "name": "stdout",
     "output_type": "stream",
     "text": [
      "\r",
      "Epoch: 5. Batch: 24. Min loss: 0.00841. Time left: 0:19:50. Best: 55 batches ago. Val loss: 0.01801"
     ]
    },
    {
     "name": "stdout",
     "output_type": "stream",
     "text": [
      "\r",
      "Epoch: 5. Batch: 25. Min loss: 0.00841. Time left: 0:20:06. Best: 56 batches ago. Val loss: 0.01801"
     ]
    },
    {
     "name": "stdout",
     "output_type": "stream",
     "text": [
      "\r",
      "Epoch: 5. Batch: 26. Min loss: 0.00841. Time left: 0:19:51. Best: 57 batches ago. Val loss: 0.01801"
     ]
    },
    {
     "name": "stdout",
     "output_type": "stream",
     "text": [
      "\r",
      "Epoch: 5. Batch: 27. Min loss: 0.00841. Time left: 0:19:54. Best: 58 batches ago. Val loss: 0.01801"
     ]
    },
    {
     "name": "stdout",
     "output_type": "stream",
     "text": [
      "\r",
      "Epoch: 5. Batch: 28. Min loss: 0.00841. Time left: 0:19:46. Best: 59 batches ago. Val loss: 0.01801"
     ]
    },
    {
     "name": "stdout",
     "output_type": "stream",
     "text": [
      "\r",
      "Epoch: 5. Batch: 29. Min loss: 0.00841. Time left: 0:20:06. Best: 60 batches ago. Val loss: 0.01801"
     ]
    },
    {
     "name": "stdout",
     "output_type": "stream",
     "text": [
      "\r",
      "Epoch: 5. Batch: 30. Min loss: 0.00841. Time left: 0:19:50. Best: 61 batches ago. Val loss: 0.01801"
     ]
    },
    {
     "name": "stdout",
     "output_type": "stream",
     "text": [
      "\r",
      "Epoch: 5. Batch: 31. Min loss: 0.00841. Time left: 0:19:50. Best: 62 batches ago. Val loss: 0.01801"
     ]
    },
    {
     "name": "stdout",
     "output_type": "stream",
     "text": [
      "\r",
      "Epoch: 5. Batch: 32. Min loss: 0.00841. Time left: 0:20:03. Best: 63 batches ago. Val loss: 0.01801"
     ]
    },
    {
     "name": "stdout",
     "output_type": "stream",
     "text": [
      "\r",
      "Epoch: 5. Batch: 33. Min loss: 0.00841. Time left: 0:19:49. Best: 64 batches ago. Val loss: 0.01801"
     ]
    },
    {
     "name": "stdout",
     "output_type": "stream",
     "text": [
      "\r",
      "Epoch: 5. Batch: 34. Min loss: 0.00841. Time left: 0:19:48. Best: 65 batches ago. Val loss: 0.01801"
     ]
    },
    {
     "name": "stdout",
     "output_type": "stream",
     "text": [
      "\r",
      "Epoch: 5. Batch: 35. Min loss: 0.00841. Time left: 0:19:49. Best: 66 batches ago. Val loss: 0.01801"
     ]
    },
    {
     "name": "stdout",
     "output_type": "stream",
     "text": [
      "\r",
      "Epoch: 5. Batch: 36. Min loss: 0.00841. Time left: 0:19:51. Best: 67 batches ago. Val loss: 0.01801"
     ]
    },
    {
     "name": "stdout",
     "output_type": "stream",
     "text": [
      "\r",
      "Epoch: 5. Batch: 37. Min loss: 0.00841. Time left: 0:19:46. Best: 68 batches ago. Val loss: 0.01801"
     ]
    },
    {
     "name": "stdout",
     "output_type": "stream",
     "text": [
      "\r",
      "Epoch: 5. Batch: 38. Min loss: 0.00841. Time left: 0:19:52. Best: 69 batches ago. Val loss: 0.01801"
     ]
    },
    {
     "name": "stdout",
     "output_type": "stream",
     "text": [
      "\r",
      "Epoch: 5. Batch: 39. Min loss: 0.00841. Time left: 0:19:42. Best: 70 batches ago. Val loss: 0.01801"
     ]
    },
    {
     "name": "stdout",
     "output_type": "stream",
     "text": [
      "\r",
      "Epoch: 5. Batch: 40. Min loss: 0.00841. Time left: 0:20:04. Best: 71 batches ago. Val loss: 0.01801"
     ]
    },
    {
     "name": "stdout",
     "output_type": "stream",
     "text": [
      "\r",
      "Epoch: 5. Batch: 41. Min loss: 0.00841. Time left: 0:19:50. Best: 72 batches ago. Val loss: 0.01801"
     ]
    },
    {
     "name": "stdout",
     "output_type": "stream",
     "text": [
      "\r",
      "Epoch: 5. Batch: 42. Min loss: 0.00841. Time left: 0:19:47. Best: 73 batches ago. Val loss: 0.01801"
     ]
    },
    {
     "name": "stdout",
     "output_type": "stream",
     "text": [
      "\r",
      "Epoch: 5. Batch: 43. Min loss: 0.00841. Time left: 0:19:51. Best: 74 batches ago. Val loss: 0.01801"
     ]
    },
    {
     "name": "stdout",
     "output_type": "stream",
     "text": [
      "\r",
      "Epoch: 5. Batch: 44. Min loss: 0.00841. Time left: 0:19:52. Best: 75 batches ago. Val loss: 0.01801"
     ]
    },
    {
     "name": "stdout",
     "output_type": "stream",
     "text": [
      "\r",
      "Epoch: 5. Batch: 45. Min loss: 0.00841. Time left: 0:20:01. Best: 76 batches ago. Val loss: 0.01801"
     ]
    },
    {
     "name": "stdout",
     "output_type": "stream",
     "text": [
      "\r",
      "Epoch: 5. Batch: 46. Min loss: 0.00841. Time left: 0:19:44. Best: 77 batches ago. Val loss: 0.01801"
     ]
    },
    {
     "name": "stdout",
     "output_type": "stream",
     "text": [
      "\r",
      "Epoch: 5. Batch: 47. Min loss: 0.00841. Time left: 0:19:44. Best: 78 batches ago. Val loss: 0.01801"
     ]
    },
    {
     "name": "stdout",
     "output_type": "stream",
     "text": [
      "\r",
      "Epoch: 5. Batch: 48. Min loss: 0.00841. Time left: 0:19:44. Best: 79 batches ago. Val loss: 0.01801"
     ]
    },
    {
     "name": "stdout",
     "output_type": "stream",
     "text": [
      "\r",
      "Epoch: 5. Batch: 49. Min loss: 0.00841. Time left: 0:19:48. Best: 80 batches ago. Val loss: 0.01801"
     ]
    },
    {
     "name": "stdout",
     "output_type": "stream",
     "text": [
      "\r",
      "Epoch: 5. Batch: 50. Min loss: 0.00841. Time left: 0:19:48. Best: 81 batches ago. Val loss: 0.01801"
     ]
    },
    {
     "name": "stdout",
     "output_type": "stream",
     "text": [
      "\r",
      "Epoch: 5. Batch: 51. Min loss: 0.00841. Time left: 0:19:46. Best: 82 batches ago. Val loss: 0.01801"
     ]
    },
    {
     "name": "stdout",
     "output_type": "stream",
     "text": [
      "\r",
      "Epoch: 5. Batch: 52. Min loss: 0.00841. Time left: 0:20:05. Best: 83 batches ago. Val loss: 0.01801"
     ]
    },
    {
     "name": "stdout",
     "output_type": "stream",
     "text": [
      "\r",
      "Epoch: 5. Batch: 53. Min loss: 0.00841. Time left: 0:19:45. Best: 84 batches ago. Val loss: 0.01801"
     ]
    },
    {
     "name": "stdout",
     "output_type": "stream",
     "text": [
      "\r",
      "Epoch: 5. Batch: 54. Min loss: 0.00841. Time left: 0:19:47. Best: 85 batches ago. Val loss: 0.01801"
     ]
    },
    {
     "name": "stdout",
     "output_type": "stream",
     "text": [
      "\r",
      "Epoch: 5. Batch: 55. Min loss: 0.00841. Time left: 0:19:46. Best: 86 batches ago. Val loss: 0.01801"
     ]
    },
    {
     "name": "stdout",
     "output_type": "stream",
     "text": [
      "\r",
      "Epoch: 5. Batch: 56. Min loss: 0.00841. Time left: 0:20:03. Best: 87 batches ago. Val loss: 0.01801"
     ]
    },
    {
     "name": "stdout",
     "output_type": "stream",
     "text": [
      "\r",
      "Epoch: 5. Batch: 57. Min loss: 0.00841. Time left: 0:19:42. Best: 88 batches ago. Val loss: 0.01801"
     ]
    },
    {
     "name": "stdout",
     "output_type": "stream",
     "text": [
      "\r",
      "Epoch: 5. Batch: 58. Min loss: 0.00841. Time left: 0:19:47. Best: 89 batches ago. Val loss: 0.01801"
     ]
    },
    {
     "name": "stdout",
     "output_type": "stream",
     "text": [
      "\r",
      "Epoch: 5. Batch: 59. Min loss: 0.00841. Time left: 0:20:02. Best: 90 batches ago. Val loss: 0.01801"
     ]
    },
    {
     "name": "stdout",
     "output_type": "stream",
     "text": [
      "\r",
      "Epoch: 5. Batch: 60. Min loss: 0.00841. Time left: 0:19:46. Best: 91 batches ago. Val loss: 0.01801"
     ]
    },
    {
     "name": "stdout",
     "output_type": "stream",
     "text": [
      "\r",
      "Epoch: 5. Batch: 61. Min loss: 0.00841. Time left: 0:19:43. Best: 92 batches ago. Val loss: 0.01801"
     ]
    },
    {
     "name": "stdout",
     "output_type": "stream",
     "text": [
      "\r",
      "Epoch: 5. Batch: 62. Min loss: 0.00841. Time left: 0:20:32. Best: 93 batches ago. Val loss: 0.01801"
     ]
    },
    {
     "name": "stdout",
     "output_type": "stream",
     "text": [
      "\r",
      "Epoch: 5. Batch: 63. Min loss: 0.00841. Time left: 0:20:15. Best: 94 batches ago. Val loss: 0.01801"
     ]
    },
    {
     "name": "stdout",
     "output_type": "stream",
     "text": [
      "\r",
      "Epoch: 5. Batch: 64. Min loss: 0.00841. Time left: 0:20:15. Best: 95 batches ago. Val loss: 0.01801"
     ]
    },
    {
     "name": "stdout",
     "output_type": "stream",
     "text": [
      "\r",
      "Epoch: 5. Batch: 65. Min loss: 0.00841. Time left: 0:19:48. Best: 96 batches ago. Val loss: 0.01801"
     ]
    },
    {
     "name": "stdout",
     "output_type": "stream",
     "text": [
      "\r",
      "Epoch: 5. Batch: 66. Min loss: 0.00841. Time left: 0:19:38. Best: 97 batches ago. Val loss: 0.01801"
     ]
    },
    {
     "name": "stdout",
     "output_type": "stream",
     "text": [
      "\r",
      "Epoch: 5. Batch: 67. Min loss: 0.00841. Time left: 0:20:59. Best: 98 batches ago. Val loss: 0.01801"
     ]
    },
    {
     "name": "stdout",
     "output_type": "stream",
     "text": [
      "\r",
      "Epoch: 5. Batch: 68. Min loss: 0.00841. Time left: 0:20:10. Best: 99 batches ago. Val loss: 0.01801"
     ]
    }
   ],
   "source": [
    "# Initialising some variables for use in training\n",
    "batches = float(\"inf\")\n",
    "time_diff = 0\n",
    "no_improv = 0\n",
    "min_loss = float(\"inf\")\n",
    "val_loss = float(\"inf\")\n",
    "epochs = 50\n",
    "print_stuff = False\n",
    "loss_list = []\n",
    "val_loss_list = []\n",
    "\n",
    "for epoch in range(epochs):\n",
    "    for i, (batch, labels) in enumerate(training_generator):\n",
    "\n",
    "        # Keeping track of stuff\n",
    "        start_time = datetime.now()\n",
    "\n",
    "        #est_time_left = str(time_diff*(min(batches, dataset.__len__()/batch_size) - i) + (time_diff*min(batches, dataset.__len__()/batch_size)) * (epochs - (epoch+1))).split(\".\")[0]\n",
    "        est_time_left = str(time_diff*(min(batches, dataset.__len__()) - i)+time_diff*(epochs-(epoch+1))*min(batches, dataset.__len__()/batch_size)).split(\".\")[0]\n",
    "        \n",
    "        sys.stdout.write(\"\\rEpoch: {0}. Batch: {1}. Min loss: {2:.5f}. Time left: {3}. Best: {4} batches ago. Val loss: {5:.5f}\".format(epoch+1, i+1, min_loss, est_time_left, no_improv, val_loss))\n",
    "\n",
    "        # Putting data on gpu\n",
    "        batch = batch.to(processor)\n",
    "        labels = labels.to(processor)\n",
    "        \n",
    "        model.train()\n",
    "        model.zero_grad()\n",
    "\n",
    "        out = model(batch)\n",
    "        loss = loss_function(out, labels)\n",
    "\n",
    "        loss_list.append(loss.item())\n",
    "        loss.backward()\n",
    "        optimiser.step()\n",
    "        loss\n",
    "        if loss.item() < min_loss:\n",
    "            #model.save(\"temp_best_model.pth\")\n",
    "            #torch.save(model.state_dict(), \"temp_best_model.pth\")\n",
    "            min_loss = loss.item()\n",
    "            no_improv = 0\n",
    "        else:\n",
    "            no_improv += 1\n",
    "        \n",
    "        # For tracking progress\n",
    "        end_time = datetime.now()\n",
    "        time_diff = end_time - start_time\n",
    "    \n",
    "        \n",
    "        if batch.size()[0] == 1:\n",
    "            to_save = torch.cat ((labels, out, batch), dim=2)\n",
    "        else:\n",
    "            to_save = torch.cat ((labels, out.squeeze(0), batch), dim=2)\n",
    "            #print(to_save.size())\n",
    "            save_image(to_save, \"data/artificialgrid/{0}.png\".format(i))\n",
    "        #save_image(batch.squeeze(0), \"/home/cavtheman/skolearbejde/degridifier/data/artificialgrid/{0}.png\".format(i))\n",
    "\n",
    "    val_loss = 0\n",
    "    model.eval()\n",
    "    for batch, labels in validation_generator:\n",
    "        batch = batch.to(processor)\n",
    "        labels = labels.to(processor)\n",
    "        \n",
    "        \n",
    "        out = model(batch)\n",
    "        loss = loss_function(out, labels)\n",
    "        val_loss += loss.item()\n",
    "    val_loss = val_loss/len(validation_generator)\n",
    "    val_loss_list.append(val_loss)\n",
    "    \n",
    "model.save(\"temp_model.pth\")\n",
    "print (\"\\nFinished\")"
   ]
  },
  {
   "cell_type": "code",
   "execution_count": null,
   "metadata": {
    "collapsed": false
   },
   "outputs": [],
   "source": [
    "# Plotting the loss through the epochs\n",
    "train_placings = np.linspace(0,epoch+1,len(loss_list))\n",
    "val_placings = np.arange (1, epoch+2)\n",
    "\n",
    "plt.plot(train_placings, loss_list, label=\"Training\")\n",
    "plt.plot(val_placings, val_loss_list, label=\"Validation\")\n",
    "\n",
    "plt.title(\"Loss during training\")\n",
    "plt.ylabel(\"Loss\")\n",
    "plt.xlabel(\"Epoch\")\n",
    "plt.yscale(\"log\")\n",
    "plt.legend()\n",
    "\n",
    "plt.savefig(\"loss_log.png\")"
   ]
  },
  {
   "cell_type": "code",
   "execution_count": null,
   "metadata": {
    "collapsed": false
   },
   "outputs": [],
   "source": []
  }
 ],
 "metadata": {
  "kernelspec": {
   "argv": [
    "/usr/bin/python3",
    "-m",
    "ipykernel_launcher",
    "-f",
    "{connection_file}"
   ],
   "display_name": "Python 3",
   "env": null,
   "interrupt_mode": "signal",
   "language": "python",
   "metadata": null,
   "name": "python3"
  },
  "name": "unet_experiment.ipynb"
 },
 "nbformat": 4,
 "nbformat_minor": 2
}
